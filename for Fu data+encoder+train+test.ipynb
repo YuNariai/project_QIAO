{
 "cells": [
  {
   "cell_type": "code",
   "execution_count": 8,
   "id": "2538ca78-84da-4f90-b742-65f7929632b4",
   "metadata": {},
   "outputs": [
    {
     "name": "stdout",
     "output_type": "stream",
     "text": [
      "Requirement already satisfied: medmnist in /home/jovyan/workspace/.conda/envs/pennylane/lib/python3.9/site-packages (2.1.0)\n",
      "Requirement already satisfied: fire in /opt/conda/envs/pennylane/lib/python3.9/site-packages (from medmnist) (0.5.0)\n",
      "Requirement already satisfied: torchvision in /opt/conda/envs/pennylane/lib/python3.9/site-packages (from medmnist) (0.13.0+cpu)\n",
      "Requirement already satisfied: scikit-image in /home/jovyan/workspace/.conda/envs/pennylane/lib/python3.9/site-packages (from medmnist) (0.19.3)\n",
      "Requirement already satisfied: Pillow in /opt/conda/envs/pennylane/lib/python3.9/site-packages (from medmnist) (9.0.1)\n",
      "Requirement already satisfied: torch in /opt/conda/envs/pennylane/lib/python3.9/site-packages (from medmnist) (1.12.0+cpu)\n",
      "Requirement already satisfied: scikit-learn in /opt/conda/envs/pennylane/lib/python3.9/site-packages (from medmnist) (1.2.0)\n",
      "Requirement already satisfied: tqdm in /opt/conda/envs/pennylane/lib/python3.9/site-packages (from medmnist) (4.64.1)\n",
      "Requirement already satisfied: numpy in /opt/conda/envs/pennylane/lib/python3.9/site-packages (from medmnist) (1.23.5)\n",
      "Requirement already satisfied: pandas in /opt/conda/envs/pennylane/lib/python3.9/site-packages (from medmnist) (1.5.3)\n",
      "Requirement already satisfied: termcolor in /opt/conda/envs/pennylane/lib/python3.9/site-packages (from fire->medmnist) (2.2.0)\n",
      "Requirement already satisfied: six in /opt/conda/envs/pennylane/lib/python3.9/site-packages (from fire->medmnist) (1.16.0)\n",
      "Requirement already satisfied: python-dateutil>=2.8.1 in /opt/conda/envs/pennylane/lib/python3.9/site-packages (from pandas->medmnist) (2.8.2)\n",
      "Requirement already satisfied: pytz>=2020.1 in /opt/conda/envs/pennylane/lib/python3.9/site-packages (from pandas->medmnist) (2022.7.1)\n",
      "Requirement already satisfied: PyWavelets>=1.1.1 in /home/jovyan/workspace/.conda/envs/pennylane/lib/python3.9/site-packages (from scikit-image->medmnist) (1.4.1)\n",
      "Requirement already satisfied: scipy>=1.4.1 in /opt/conda/envs/pennylane/lib/python3.9/site-packages (from scikit-image->medmnist) (1.10.0)\n",
      "Requirement already satisfied: imageio>=2.4.1 in /home/jovyan/workspace/.conda/envs/pennylane/lib/python3.9/site-packages (from scikit-image->medmnist) (2.26.0)\n",
      "Requirement already satisfied: networkx>=2.2 in /opt/conda/envs/pennylane/lib/python3.9/site-packages (from scikit-image->medmnist) (2.8.1)\n",
      "Requirement already satisfied: tifffile>=2019.7.26 in /home/jovyan/workspace/.conda/envs/pennylane/lib/python3.9/site-packages (from scikit-image->medmnist) (2023.2.3)\n",
      "Requirement already satisfied: packaging>=20.0 in /opt/conda/envs/pennylane/lib/python3.9/site-packages (from scikit-image->medmnist) (23.0)\n",
      "Requirement already satisfied: threadpoolctl>=2.0.0 in /opt/conda/envs/pennylane/lib/python3.9/site-packages (from scikit-learn->medmnist) (3.1.0)\n",
      "Requirement already satisfied: joblib>=1.1.1 in /opt/conda/envs/pennylane/lib/python3.9/site-packages (from scikit-learn->medmnist) (1.2.0)\n",
      "Requirement already satisfied: typing-extensions in /opt/conda/envs/pennylane/lib/python3.9/site-packages (from torch->medmnist) (4.4.0)\n",
      "Requirement already satisfied: requests in /opt/conda/envs/pennylane/lib/python3.9/site-packages (from torchvision->medmnist) (2.28.2)\n",
      "Requirement already satisfied: certifi>=2017.4.17 in /opt/conda/envs/pennylane/lib/python3.9/site-packages (from requests->torchvision->medmnist) (2022.12.7)\n",
      "Requirement already satisfied: urllib3<1.27,>=1.21.1 in /opt/conda/envs/pennylane/lib/python3.9/site-packages (from requests->torchvision->medmnist) (1.26.14)\n",
      "Requirement already satisfied: idna<4,>=2.5 in /opt/conda/envs/pennylane/lib/python3.9/site-packages (from requests->torchvision->medmnist) (3.4)\n",
      "Requirement already satisfied: charset-normalizer<4,>=2 in /opt/conda/envs/pennylane/lib/python3.9/site-packages (from requests->torchvision->medmnist) (3.0.1)\n",
      "\n",
      "\u001b[1m[\u001b[0m\u001b[34;49mnotice\u001b[0m\u001b[1;39;49m]\u001b[0m\u001b[39;49m A new release of pip is available: \u001b[0m\u001b[31;49m23.0\u001b[0m\u001b[39;49m -> \u001b[0m\u001b[32;49m23.0.1\u001b[0m\n",
      "\u001b[1m[\u001b[0m\u001b[34;49mnotice\u001b[0m\u001b[1;39;49m]\u001b[0m\u001b[39;49m To update, run: \u001b[0m\u001b[32;49m/opt/conda/envs/pennylane/bin/python3 -m pip install --upgrade pip\u001b[0m\n",
      "Note: you may need to restart the kernel to use updated packages.\n"
     ]
    }
   ],
   "source": [
    "pip install medmnist"
   ]
  },
  {
   "cell_type": "code",
   "execution_count": null,
   "id": "4b656426-c347-4b53-80fd-0e43467ec94d",
   "metadata": {},
   "outputs": [],
   "source": [
    "#!pip install pennylane"
   ]
  },
  {
   "cell_type": "code",
   "execution_count": null,
   "id": "7878850f-2f6d-4cae-88ec-7131454f054c",
   "metadata": {},
   "outputs": [],
   "source": [
    "#!pip install matplotlib"
   ]
  },
  {
   "cell_type": "code",
   "execution_count": null,
   "id": "f751de6a-d5c8-4ea4-81af-54f4992632cd",
   "metadata": {},
   "outputs": [],
   "source": [
    "#!pip install idx2numpy"
   ]
  },
  {
   "cell_type": "code",
   "execution_count": null,
   "id": "1173a9c1-5de1-4b1a-ac40-f53b7e602671",
   "metadata": {},
   "outputs": [],
   "source": [
    "#conda install cuda -c nvidia/label/cuda-11.4.0"
   ]
  },
  {
   "cell_type": "code",
   "execution_count": null,
   "id": "e885ff29-c807-47fa-9164-894744004406",
   "metadata": {},
   "outputs": [],
   "source": [
    "#!pip install pennylane-lightning-gpu"
   ]
  },
  {
   "cell_type": "code",
   "execution_count": null,
   "id": "bd6e6fed-a275-41c2-aa2c-fa8a8a119a80",
   "metadata": {},
   "outputs": [],
   "source": []
  },
  {
   "cell_type": "code",
   "execution_count": 1,
   "id": "9ca28601-db73-40c1-b935-3650bc4af255",
   "metadata": {},
   "outputs": [
    {
     "name": "stdout",
     "output_type": "stream",
     "text": [
      "Using downloaded and verified file: /home/foucault/.medmnist/pneumoniamnist.npz\n",
      "Using downloaded and verified file: /home/foucault/.medmnist/pneumoniamnist.npz\n"
     ]
    }
   ],
   "source": [
    "import medmnist\n",
    "from medmnist import INFO\n",
    "def get_data():\n",
    "    # pip install medmnist\n",
    "    \n",
    "    data_flag = 'pneumoniamnist'\n",
    "\n",
    "    info = INFO[data_flag]\n",
    "    DataClass = getattr(medmnist, info['python_class'])\n",
    "    pil_dataset_train = DataClass(split='train', download=True)\n",
    "    pil_dataset_test = DataClass(split='test', download=True)\n",
    "    return pil_dataset_train, pil_dataset_test\n",
    "\n",
    "data_train, data_test = get_data()\n",
    "train_images = data_train.imgs/255.0\n",
    "train_labels = data_train.labels"
   ]
  },
  {
   "cell_type": "code",
   "execution_count": null,
   "id": "7c387281-3c85-4d92-9b9d-a24bc6d27114",
   "metadata": {},
   "outputs": [],
   "source": [
    "'''\n",
    "import matplotlib.pyplot as plt\n",
    "plt.figure(figsize=(10, 10))\n",
    "for i in range(25):\n",
    "    plt.subplot(5, 5, i + 1)\n",
    "    plt.imshow(train_images[i], cmap=plt.cm.binary)\n",
    "    plt.axis(\"off\")"
   ]
  },
  {
   "cell_type": "code",
   "execution_count": null,
   "id": "33391273-f366-44a7-8975-e915053c8b61",
   "metadata": {},
   "outputs": [],
   "source": [
    "'''device = \"cpu\"\n",
    "# device = \"cuda\"\n",
    "import time,os,copy\n",
    "import idx2numpy \n",
    "import numpy as np \n",
    "from tqdm import tqdm\n",
    "\n",
    "seed = 42\n",
    "np.random.seed(seed)"
   ]
  },
  {
   "cell_type": "code",
   "execution_count": null,
   "id": "a7a29dbf-2770-41b8-a231-9096e01dbadf",
   "metadata": {},
   "outputs": [],
   "source": [
    "'''# splitting the full dataset of 5 classes into test and train images to ensure the testing does not happen on images from train data.\n",
    "from os import mkdir\n",
    "split = np.array_split(train_images,[int(len(train_images)*0.7)])\n",
    "train_sequences = split[0]\n",
    "test_sequences = split[1]\n",
    "print(len(split[0]),len(split[1]))\n",
    "split = np.array_split(train_labels,[int(len(train_labels)*0.7)])\n",
    "train_labels = split[0]\n",
    "test_labels = split[1]\n",
    "print(len(split[0]),len(split[1]))\n",
    "datalength = 5000\n",
    "# we restrict the training to first 5000 images of 21000\n",
    "n_steps = 10\n",
    "train_sequences = np.tile(train_sequences[:, None], (1, n_steps, 1, 1))#[:datalength]\n",
    "test_sequences = np.tile(test_sequences[:, None], (1, n_steps, 1, 1))\n",
    "# train_labels = train_labels[:datalength]\n",
    "create = True\n",
    "# !mkdir saved_data_PneumoniaMNIST\n",
    "if create:\n",
    "    mkdir(\"./saved_data_PneumoniaMNIST\")\n",
    "    np.savez_compressed(\"./saved_data_PneumoniaMNIST/test_labels.npz\",test_labels)\n",
    "    np.savez_compressed(f\"./saved_data_PneumoniaMNIST/test_seqs_{seed}.npz\",test_sequences)\n",
    "    np.savez_compressed(\"./saved_data_PneumoniaMNIST/train_labels.npz\",train_labels)\n",
    "    np.savez_compressed(f\"./saved_data_PneumoniaMNIST/train_seqs_{seed}.npz\",train_sequences)\n",
    "\n",
    "print(len(test_labels),len(test_sequences),len(train_labels),len(train_sequences))"
   ]
  },
  {
   "cell_type": "code",
   "execution_count": null,
   "id": "8a673e31-a53d-4716-96da-ff0dcc612744",
   "metadata": {},
   "outputs": [],
   "source": [
    "'''def salt_pepper(test_sequences,test_labels,prob,salt=0,pepper=1):\n",
    "  sampled_images = test_sequences\n",
    "  sampled_labels = test_labels\n",
    "  for j in range(len(test_labels)):\n",
    "    for i in range(np.shape(sampled_images[j])[0]):\n",
    "      for y in range(28):\n",
    "        for x in range(28):\n",
    "          r = np.random.random() \n",
    "          if r < prob:\n",
    "            sampled_images[j][i][y][x] = salt\n",
    "          elif r > 1-prob:\n",
    "            sampled_images[j][i][y][x] = pepper\n",
    "  return sampled_images,sampled_labels"
   ]
  },
  {
   "cell_type": "code",
   "execution_count": null,
   "id": "d216025d-8331-4c5a-9aed-2224c7dd0f6a",
   "metadata": {},
   "outputs": [],
   "source": [
    "'''if create:\n",
    "    for i in range(1,10,1):\n",
    "        d , l =salt_pepper(np.load(f\"./saved_data_PneumoniaMNIST/test_seqs_{seed}.npz\")['arr_0'],np.load(f\"./saved_data_PneumoniaMNIST/test_labels.npz\")['arr_0'],i/100.0)\n",
    "        np.savez_compressed(f\"./saved_data_PneumoniaMNIST/snp_{i/100.0}_{seed}.npz\",d)\n",
    "    for i in range(1,6,1):\n",
    "        d , l =salt_pepper(np.load(f\"./saved_data_PneumoniaMNIST/test_seqs_{seed}.npz\")['arr_0'],np.load(f\"./saved_data_PneumoniaMNIST/test_labels.npz\")['arr_0'],i/10.0)\n",
    "        np.savez_compressed(f\"./saved_data_PneumoniaMNIST/snp_{i/10.0}_{seed}.npz\",d)"
   ]
  },
  {
   "cell_type": "code",
   "execution_count": null,
   "id": "ef47a13e-8fda-4425-95a5-a9f6a91de216",
   "metadata": {},
   "outputs": [],
   "source": [
    "'''for ii in range(1,10,1):\n",
    "    print(f\"noise probability = {2*i/100.}\")\n",
    "    d = np.load(f\"./saved_data_PneumoniaMNIST/snp_{ii/100.0}_{seed}.npz\")['arr_0']\n",
    "    l = np.load(f\"./saved_data_PneumoniaMNIST/test_labels.npz\")['arr_0']\n",
    "    plt.figure(figsize=(10, 10))\n",
    "    for i in range(10):\n",
    "        plt.subplot(5, 5, i + 1)\n",
    "        plt.imshow(d[i+2][0], cmap=plt.cm.binary)\n",
    "        plt.axis(\"off\")\n",
    "        #plt.title(class_names[l[i+2]])\n",
    "    #plt.show()\n",
    "    print(ii,end='')\n",
    "    plt.savefig(f\"./saved_data_PneumoniaMNIST/snp_{str(ii/100.0)}.png\",dpi=500,transparent=False)\n",
    "    plt.savefig(f\"./saved_data_PneumoniaMNIST/snp_{str(ii/100.0)}.ps\")"
   ]
  },
  {
   "cell_type": "code",
   "execution_count": null,
   "id": "9962b2c8-bd57-4981-83a7-39d40bc6933b",
   "metadata": {},
   "outputs": [],
   "source": [
    "'''if create:\n",
    "  for i in tqdm([i for i in range(1,10)]+[i/10 for i in range(1,10)]):\n",
    "    sampled_images = np.load(f\"./saved_data_PneumoniaMNIST/test_seqs_{seed}.npz\")['arr_0']\n",
    "    sampled_labels = np.load(\"./saved_data_PneumoniaMNIST/test_labels.npz\")['arr_0']\n",
    "    sigma = (i*0.1)**0.5\n",
    "    mean = 0\n",
    "    for j in range(len(sampled_labels)):\n",
    "      for _ in range(len(sampled_images[j])):\n",
    "        row,col = sampled_images[j][_].shape\n",
    "        # gauss = np.array(np.random.normal(mean,sigma,size=(28,28))).reshape(row,col)\n",
    "        gauss = np.array(np.random.randn(row*col)) #* var ** 0.5 + mean\n",
    "        gauss = gauss*sigma + mean\n",
    "        gauss = gauss.reshape(row,col)\n",
    "        sampled_images[j][_] = sampled_images[j][_] + gauss\n",
    "    np.savez_compressed(f\"./saved_data_PneumoniaMNIST/gauss_{round(i/10., 2)}_{seed}.npz\",sampled_images)"
   ]
  },
  {
   "cell_type": "code",
   "execution_count": 2,
   "id": "eb4d68bd-b6ae-480c-83e9-adb7cb0e3b3d",
   "metadata": {},
   "outputs": [],
   "source": [
    "import pennylane as qml\n",
    "import pennylane.numpy as np"
   ]
  },
  {
   "cell_type": "code",
   "execution_count": 3,
   "id": "d15637b6-daf2-4218-8601-50bb49d36d09",
   "metadata": {},
   "outputs": [],
   "source": [
    "index_x=['x0','x1','x2','x3','x4']\n",
    "index_y=['y0','y1','y2','y3','y4']\n",
    "def encoder(image):\n",
    "    for wire in (index_x+index_y):\n",
    "        qml.Hadamard(wires=wire)\n",
    "    for i in range(len(image)):\n",
    "        y = bin(i)[2:]\n",
    "        y = '0'*(5-len(y)) + y\n",
    "        for j in range(len(image[0])):\n",
    "            if image[i][j]>0.001:\n",
    "                x = bin(j)[2:]\n",
    "                x = '0'*(5-len(x)) + x\n",
    "                qml.RY(image[i][j]/2*np.pi,wires='gray')\n",
    "                qml.MultiControlledX(control_wires=(index_x+index_y), wires='gray', control_values=x+y)\n",
    "                qml.RY(image[i][j]/2*np.pi,wires='gray')\n",
    "            \n",
    "            "
   ]
  },
  {
   "cell_type": "code",
   "execution_count": 4,
   "id": "d7196b9f-4ab1-4281-81c2-c1e1e99d82e4",
   "metadata": {},
   "outputs": [],
   "source": [
    "X=train_images[495:505] # train images\n",
    "\n",
    "#train_label=np.load('labels.npy')[495:505]\n",
    "Y = np.array([y[0] for y in train_labels[495:505]]) # train lables\n",
    "Y = Y * 2 - np.ones(len(Y)) # shift label from {0, 1} to {-1, 1}"
   ]
  },
  {
   "cell_type": "code",
   "execution_count": 5,
   "id": "dcfb9819-cede-45f0-bf6e-4c4d8adebe7c",
   "metadata": {},
   "outputs": [],
   "source": [
    "def entangling_layer0(input_wires,output_wires,weights):\n",
    "    \n",
    "    weights_ = (weight for weight in weights)\n",
    "    for i in input_wires:\n",
    "        for j in output_wires:\n",
    "            qml.CNOT(wires=[i,j])\n",
    "            \n",
    "            param = next(weights_)\n",
    "            qml.RZ(param, wires=j)\n",
    "            \n",
    "            param = next(weights_)\n",
    "            qml.RX(param, wires=j) \n",
    "            \n",
    "            qml.CNOT(wires=[i,j])\n",
    "            \n"
   ]
  },
  {
   "cell_type": "code",
   "execution_count": 6,
   "id": "29ffaa96-bd86-4956-9b1a-cc38486845a3",
   "metadata": {},
   "outputs": [],
   "source": [
    "def entangling_layer1(wires,weights):\n",
    "    n=len(wires)\n",
    "    weights_ = (weight for weight in weights)\n",
    "    for i in range(1,n):\n",
    "        j = 0\n",
    "        r = []\n",
    "        while j <= n-1:\n",
    "            if j not in r:\n",
    "                qml.CNOT([wires[j],wires[j+i]])\n",
    "                r += [j+1]\n",
    "            \n",
    "                param = next(weights_)\n",
    "                qml.RZ(param, wires=j)\n",
    "            \n",
    "                param = next(weights_)\n",
    "                qml.RX(param, wires=j) \n",
    "            \n",
    "                qml.CNOT([wires[j],wires[j+i]])\n",
    "                j += 1\n",
    "        for j in r:\n",
    "            qml.CNOT([wires[j],wires[j+i]])\n",
    "            \n",
    "            param = next(weights_)\n",
    "            qml.RZ(param, wires=j)\n",
    "            \n",
    "            param = next(weights_)\n",
    "            qml.RX(param, wires=j) \n",
    "            \n",
    "            qml.CNOT([wires[j],wires[j+i]])"
   ]
  },
  {
   "cell_type": "code",
   "execution_count": 14,
   "id": "e15f8031-836a-43fd-8047-a22000a88b77",
   "metadata": {},
   "outputs": [
    {
     "name": "stdout",
     "output_type": "stream",
     "text": [
      "0: ─╭●──RZ(0.02)──RX(0.00)─╭●────────────────────────────╭●──RZ(0.01)──RX(-0.00)─╭●──────────────\n",
      "1: ─╰X─────────────────────╰X─╭●──RZ(0.02)──RX(-0.01)─╭●─│───────────────────────│──╭●──RZ(-0.00)\n",
      "2: ─╭●──RZ(0.01)──RX(0.02)─╭●─╰X──────────────────────╰X─╰X──────────────────────╰X─│────────────\n",
      "3: ─╰X─────────────────────╰X───────────────────────────────────────────────────────╰X───────────\n",
      "\n",
      "───────────────╭●──RZ(0.00)──RX(0.01)─╭●─┤  Probs\n",
      "───RX(0.00)─╭●─│──────────────────────│──┤       \n",
      "────────────│──│──────────────────────│──┤       \n",
      "────────────╰X─╰X─────────────────────╰X─┤       \n"
     ]
    }
   ],
   "source": [
    "'''\n",
    "wires = [0,1,2,3]\n",
    "np.random.seed(0)\n",
    "weights= 0.01 * np.random.randn(12, requires_grad=True)\n",
    "\n",
    "dev = qml.device(\"default.qubit\", wires=wires)\n",
    "@qml.qnode(dev)\n",
    "\n",
    "def entangling_layer1(wires,weights):\n",
    "    n=len(wires)\n",
    "    weights_ = (weight for weight in weights)\n",
    "    for i in range(1,n):\n",
    "        j = 0\n",
    "        r = []\n",
    "        while j <= n-i-1:\n",
    "            if j not in r:\n",
    "                qml.CNOT([wires[j],wires[j+i]])\n",
    "                r += [j+1]\n",
    "            \n",
    "                param = next(weights_)\n",
    "                qml.RZ(param, wires=j)\n",
    "            \n",
    "                param = next(weights_)\n",
    "                qml.RX(param, wires=j) \n",
    "            \n",
    "                qml.CNOT([wires[j],wires[j+i]])\n",
    "            j += 1\n",
    "        for j in r:\n",
    "            if j+i <= n-1:\n",
    "                qml.CNOT([wires[j],wires[j+i]])\n",
    "            \n",
    "                param = next(weights_)\n",
    "                qml.RZ(param, wires=j)\n",
    "            \n",
    "                param = next(weights_)\n",
    "                qml.RX(param, wires=j) \n",
    "            \n",
    "                qml.CNOT([wires[j],wires[j+i]])\n",
    "    return qml.probs(wires[0])\n",
    "            \n",
    "print(qml.draw(entangling_layer1)(wires,weights))'''"
   ]
  },
  {
   "cell_type": "code",
   "execution_count": 7,
   "id": "ddde1fe7-38ef-4d03-bfcb-13628680c92d",
   "metadata": {},
   "outputs": [],
   "source": [
    "# The training circuit\n",
    "encoder_wires = ['x0','x1','x2','x3','x4','y0','y1','y2','y3','y4','gray','train']\n",
    "dev = qml.device(\"default.qubit\", wires=encoder_wires)\n",
    "@qml.qnode(dev)\n",
    "def circuit(weights, image):\n",
    "    encoder(image)\n",
    "    entangling_layer0(['x0','x1','x2','x3','x4','y0','y1','y2','y3','y4','gray'],['train'],weights)\n",
    "    #entangling_layer1(['x0','x1','x2','x3','x4','y0','y1','y2','y3','y4','gray'],weights)\n",
    "    return qml.expval(qml.PauliZ('train'))\n",
    "\n"
   ]
  },
  {
   "cell_type": "code",
   "execution_count": 8,
   "id": "71d089e8-66a0-4336-8c91-3349a6312a98",
   "metadata": {},
   "outputs": [],
   "source": [
    "def variational_classifier(weights, bias, x):\n",
    "    return circuit(weights, x) + bias"
   ]
  },
  {
   "cell_type": "code",
   "execution_count": 9,
   "id": "a7149a5f-924b-4ed9-b428-56d7b63e3b96",
   "metadata": {},
   "outputs": [],
   "source": [
    "def square_loss(labels, predictions):\n",
    "    loss = 0\n",
    "    for l, p in zip(labels, predictions):\n",
    "        loss = loss + (l - p) ** 2\n",
    "\n",
    "    loss = loss / len(labels)\n",
    "    return loss"
   ]
  },
  {
   "cell_type": "code",
   "execution_count": 10,
   "id": "68923dd4-a70b-4515-a0b6-850efb82a448",
   "metadata": {},
   "outputs": [],
   "source": [
    "def accuracy(labels, predictions):\n",
    "\n",
    "    loss = 0\n",
    "    for l, p in zip(labels, predictions):\n",
    "        if abs(l - p) < 1e-5:\n",
    "            loss = loss + 1\n",
    "    loss = loss / len(labels)\n",
    "\n",
    "    return loss"
   ]
  },
  {
   "cell_type": "code",
   "execution_count": 11,
   "id": "e02a7d7e-0375-45b5-aa95-5941e52ff0f2",
   "metadata": {},
   "outputs": [],
   "source": [
    "def cost(weights, bias, X, Y):\n",
    "    predictions = [variational_classifier(weights, bias, x) for x in X]\n",
    "    return square_loss(Y, predictions)"
   ]
  },
  {
   "cell_type": "code",
   "execution_count": 12,
   "id": "d6cd6f87-99a8-416f-ba69-5004133ec3b0",
   "metadata": {},
   "outputs": [],
   "source": [
    "np.random.seed(0)\n",
    "weights_init = 0.01 * np.random.randn(22, requires_grad=True)\n",
    "#weights_init = 0.01 * np.random.randn(110, requires_grad=True)\n",
    "bias_init = np.array(0.0, requires_grad=True)"
   ]
  },
  {
   "cell_type": "code",
   "execution_count": 13,
   "id": "0b06e6df-a5ea-4349-a87f-5a213272bc14",
   "metadata": {},
   "outputs": [],
   "source": [
    "from pennylane.optimize import NesterovMomentumOptimizer\n",
    "opt = NesterovMomentumOptimizer(0.5)\n",
    "batch_size = 2"
   ]
  },
  {
   "cell_type": "code",
   "execution_count": null,
   "id": "2b588f62-2cca-43e6-8b6f-11a0370bac0a",
   "metadata": {},
   "outputs": [
    {
     "name": "stderr",
     "output_type": "stream",
     "text": [
      "/home/foucault/.conda/envs/qhack2023/lib/python3.10/site-packages/pennylane/ops/qubit/non_parametric_ops.py:2289: UserWarning: The control_wires keyword will be removed soon. Use wires = (control_wires, target_wire) instead. See the documentation for more information.\n",
      "  warnings.warn(\n"
     ]
    }
   ],
   "source": [
    "# Training the circuit\n",
    "weights = weights_init\n",
    "bias = bias_init\n",
    "for it in range(2):\n",
    "\n",
    "    # Update the weights by one optimizer step\n",
    "    batch_index = np.random.randint(0, len(X), (batch_size,))\n",
    "    X_batch = X[batch_index]\n",
    "    Y_batch = Y[batch_index]\n",
    "    weights, bias, _, _ = opt.step(cost, weights, bias, X_batch, Y_batch)\n",
    "\n",
    "    # Compute accuracy\n",
    "    predictions = [np.sign(variational_classifier(weights, bias, x)) for x in X]\n",
    "    acc = accuracy(Y, predictions)\n",
    "\n",
    "    print(\n",
    "        \"Iter: {:5d} | Cost: {:0.7f} | Accuracy: {:0.7f} \".format(\n",
    "            it + 1, cost(weights, bias, X, Y), acc\n",
    "        )\n",
    "    )"
   ]
  },
  {
   "cell_type": "code",
   "execution_count": null,
   "id": "10c931be-7dc5-486c-98b8-e873532e595c",
   "metadata": {},
   "outputs": [],
   "source": [
    "# test model with test dataset\n",
    "\n",
    "test_X=(np.load('images.npy')*255)[495:505] # train images\n",
    "\n",
    "test_label=np.load('labels.npy')[495:505]\n",
    "test_Y = np.array([int(y) for y in test_label]) # train lables\n",
    "test_Y = test_Y * 2 - np.ones(len(test_Y)) # shift label from {0, 1} to {-1, 1}"
   ]
  },
  {
   "cell_type": "code",
   "execution_count": null,
   "id": "508b0e4c-e487-4a54-90d6-62e8c8d8928c",
   "metadata": {},
   "outputs": [],
   "source": [
    "test_predictions = [np.sign(variational_classifier(weights, bias, x)) for x in test_X]\n",
    "test_acc = accuracy(test_Y, test_predictions)"
   ]
  },
  {
   "cell_type": "code",
   "execution_count": null,
   "id": "d687eadd-6dc1-447c-9ead-1893d41ebdaf",
   "metadata": {},
   "outputs": [],
   "source": []
  }
 ],
 "metadata": {
  "kernelspec": {
   "display_name": "Python 3 (ipykernel)",
   "language": "python",
   "name": "python3"
  },
  "language_info": {
   "codemirror_mode": {
    "name": "ipython",
    "version": 3
   },
   "file_extension": ".py",
   "mimetype": "text/x-python",
   "name": "python",
   "nbconvert_exporter": "python",
   "pygments_lexer": "ipython3",
   "version": "3.10.9"
  }
 },
 "nbformat": 4,
 "nbformat_minor": 5
}
