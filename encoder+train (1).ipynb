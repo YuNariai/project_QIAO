{
 "cells": [
  {
   "cell_type": "code",
   "execution_count": 1,
   "id": "2538ca78-84da-4f90-b742-65f7929632b4",
   "metadata": {},
   "outputs": [],
   "source": [
    "import pennylane as qml\n",
    "import pennylane.numpy as np"
   ]
  },
  {
   "cell_type": "code",
   "execution_count": 3,
   "id": "7e0e65e7-2a52-499e-89e1-d1401e1c2168",
   "metadata": {},
   "outputs": [
    {
     "data": {
      "text/plain": [
       "array([[-0.58778525+0.j,  0.80901699+0.j],\n",
       "       [ 0.80901699+0.j,  0.58778525+0.j]])"
      ]
     },
     "execution_count": 3,
     "metadata": {},
     "output_type": "execute_result"
    }
   ],
   "source": [
    "#qml.matrix(qml.RY(0.2*np.pi,0)@qml.PauliX(0)@qml.RY(-0.2*np.pi,0))"
   ]
  },
  {
   "cell_type": "code",
   "execution_count": 4,
   "id": "4e1e506f-4f4e-480f-bc0d-263157f82af6",
   "metadata": {},
   "outputs": [
    {
     "data": {
      "text/plain": [
       "array([[1.00000000e+00+0.j, 1.19889621e-17+0.j],\n",
       "       [1.19889621e-17+0.j, 1.00000000e+00+0.j]])"
      ]
     },
     "execution_count": 4,
     "metadata": {},
     "output_type": "execute_result"
    }
   ],
   "source": [
    "#qml.matrix(qml.RY(0.2*np.pi,0)@qml.RY(-0.2*np.pi,0))"
   ]
  },
  {
   "cell_type": "code",
   "execution_count": 4,
   "id": "d15637b6-daf2-4218-8601-50bb49d36d09",
   "metadata": {},
   "outputs": [],
   "source": [
    "index_x=['x0','x1','x2','x3','x4']\n",
    "index_y=['y0','y1','y2','y3','y4']\n",
    "def encoder(image):\n",
    "    for wire in (index_x+index_y):\n",
    "        qml.Hadamard(wires=wire)\n",
    "    for i in range(len(image)):\n",
    "        y = bin(i)[2:]\n",
    "        y = '0'*(5-len(y)) + y\n",
    "        for j in range(len(image[0])):\n",
    "            if image[i][j]>0.001:\n",
    "                x = bin(j)[2:]\n",
    "                x = '0'*(5-len(x)) + x\n",
    "                qml.RY(image[i][j]/2*np.pi,wires='gray')\n",
    "                qml.MultiControlledX(control_wires=(index_x+index_y), wires='gray', control_values=x+y)\n",
    "                qml.RY(image[i][j]/2*np.pi,wires='gray')\n",
    "            \n",
    "            "
   ]
  },
  {
   "cell_type": "code",
   "execution_count": 3,
   "id": "d7196b9f-4ab1-4281-81c2-c1e1e99d82e4",
   "metadata": {},
   "outputs": [],
   "source": [
    "X=(np.load('images.npy')*255)[495:505] # train images\n",
    "\n",
    "train_label=np.load('labels.npy')[495:505]\n",
    "Y = np.array([int(y) for y in train_label]) # train lables\n",
    "Y = Y * 2 - np.ones(len(Y)) # shift label from {0, 1} to {-1, 1}"
   ]
  },
  {
   "cell_type": "code",
   "execution_count": 17,
   "id": "dcfb9819-cede-45f0-bf6e-4c4d8adebe7c",
   "metadata": {},
   "outputs": [],
   "source": [
    "def entangling_layer0(input_wires,output_wires,weights):\n",
    "    \n",
    "    weights_ = (weight for weight in weights)\n",
    "    for i in input_wires:\n",
    "        for j in output_wires:\n",
    "            qml.CNOT(wires=[i,j])\n",
    "            \n",
    "            param = next(weights_)\n",
    "            qml.RZ(param, wires=j)\n",
    "            \n",
    "            param = next(weights_)\n",
    "            qml.RX(param, wires=j) \n",
    "            \n",
    "            qml.CNOT(wires=[i,j])\n",
    "            \n"
   ]
  },
  {
   "cell_type": "code",
   "execution_count": 2,
   "id": "29ffaa96-bd86-4956-9b1a-cc38486845a3",
   "metadata": {},
   "outputs": [],
   "source": [
    "def entangling_layer1(wires,weights):\n",
    "    n=len(wires)\n",
    "    weights_ = (weight for weight in weights)\n",
    "    for i in range(1,n):\n",
    "        j = 0\n",
    "        r = []\n",
    "        while j <= n-1:\n",
    "            if j not in r:\n",
    "                qml.CNOT([wires[j],wires[j+i]])\n",
    "                r += [j+1]\n",
    "            \n",
    "                param = next(weights_)\n",
    "                qml.RZ(param, wires=j)\n",
    "            \n",
    "                param = next(weights_)\n",
    "                qml.RX(param, wires=j) \n",
    "            \n",
    "                qml.CNOT([wires[j],wires[j+i]])\n",
    "                j += 1\n",
    "        for j in r:\n",
    "            qml.CNOT([wires[j],wires[j+i]])\n",
    "            \n",
    "            param = next(weights_)\n",
    "            qml.RZ(param, wires=j)\n",
    "            \n",
    "            param = next(weights_)\n",
    "            qml.RX(param, wires=j) \n",
    "            \n",
    "            qml.CNOT([wires[j],wires[j+i]])"
   ]
  },
  {
   "cell_type": "code",
   "execution_count": 14,
   "id": "e15f8031-836a-43fd-8047-a22000a88b77",
   "metadata": {},
   "outputs": [
    {
     "name": "stdout",
     "output_type": "stream",
     "text": [
      "0: ─╭●──RZ(0.02)──RX(0.00)─╭●────────────────────────────╭●──RZ(0.01)──RX(-0.00)─╭●──────────────\n",
      "1: ─╰X─────────────────────╰X─╭●──RZ(0.02)──RX(-0.01)─╭●─│───────────────────────│──╭●──RZ(-0.00)\n",
      "2: ─╭●──RZ(0.01)──RX(0.02)─╭●─╰X──────────────────────╰X─╰X──────────────────────╰X─│────────────\n",
      "3: ─╰X─────────────────────╰X───────────────────────────────────────────────────────╰X───────────\n",
      "\n",
      "───────────────╭●──RZ(0.00)──RX(0.01)─╭●─┤  Probs\n",
      "───RX(0.00)─╭●─│──────────────────────│──┤       \n",
      "────────────│──│──────────────────────│──┤       \n",
      "────────────╰X─╰X─────────────────────╰X─┤       \n"
     ]
    }
   ],
   "source": [
    "'''\n",
    "wires = [0,1,2,3]\n",
    "np.random.seed(0)\n",
    "weights= 0.01 * np.random.randn(12, requires_grad=True)\n",
    "\n",
    "dev = qml.device(\"default.qubit\", wires=wires)\n",
    "@qml.qnode(dev)\n",
    "\n",
    "def entangling_layer1(wires,weights):\n",
    "    n=len(wires)\n",
    "    weights_ = (weight for weight in weights)\n",
    "    for i in range(1,n):\n",
    "        j = 0\n",
    "        r = []\n",
    "        while j <= n-i-1:\n",
    "            if j not in r:\n",
    "                qml.CNOT([wires[j],wires[j+i]])\n",
    "                r += [j+1]\n",
    "            \n",
    "                param = next(weights_)\n",
    "                qml.RZ(param, wires=j)\n",
    "            \n",
    "                param = next(weights_)\n",
    "                qml.RX(param, wires=j) \n",
    "            \n",
    "                qml.CNOT([wires[j],wires[j+i]])\n",
    "            j += 1\n",
    "        for j in r:\n",
    "            if j+i <= n-1:\n",
    "                qml.CNOT([wires[j],wires[j+i]])\n",
    "            \n",
    "                param = next(weights_)\n",
    "                qml.RZ(param, wires=j)\n",
    "            \n",
    "                param = next(weights_)\n",
    "                qml.RX(param, wires=j) \n",
    "            \n",
    "                qml.CNOT([wires[j],wires[j+i]])\n",
    "    return qml.probs(wires[0])\n",
    "            \n",
    "print(qml.draw(entangling_layer1)(wires,weights))'''"
   ]
  },
  {
   "cell_type": "code",
   "execution_count": 6,
   "id": "ddde1fe7-38ef-4d03-bfcb-13628680c92d",
   "metadata": {},
   "outputs": [],
   "source": [
    "encoder_wires = ['x0','x1','x2','x3','x4','y0','y1','y2','y3','y4','gray','train']\n",
    "dev = qml.device(\"default.qubit\", wires=encoder_wires)\n",
    "@qml.qnode(dev)\n",
    "def circuit(weights, image):\n",
    "    encoder(image)\n",
    "    entangling_layer0(['x0','x1','x2','x3','x4','y0','y1','y2','y3','y4','gray'],['train'],weights)\n",
    "    #entangling_layer1(['x0','x1','x2','x3','x4','y0','y1','y2','y3','y4','gray'],weights)\n",
    "    return qml.expval(qml.PauliZ('train'))\n",
    "\n"
   ]
  },
  {
   "cell_type": "code",
   "execution_count": 7,
   "id": "71d089e8-66a0-4336-8c91-3349a6312a98",
   "metadata": {},
   "outputs": [],
   "source": [
    "def variational_classifier(weights, bias, x):\n",
    "    return circuit(weights, x) + bias"
   ]
  },
  {
   "cell_type": "code",
   "execution_count": 8,
   "id": "a7149a5f-924b-4ed9-b428-56d7b63e3b96",
   "metadata": {},
   "outputs": [],
   "source": [
    "def square_loss(labels, predictions):\n",
    "    loss = 0\n",
    "    for l, p in zip(labels, predictions):\n",
    "        loss = loss + (l - p) ** 2\n",
    "\n",
    "    loss = loss / len(labels)\n",
    "    return loss"
   ]
  },
  {
   "cell_type": "code",
   "execution_count": 9,
   "id": "68923dd4-a70b-4515-a0b6-850efb82a448",
   "metadata": {},
   "outputs": [],
   "source": [
    "def accuracy(labels, predictions):\n",
    "\n",
    "    loss = 0\n",
    "    for l, p in zip(labels, predictions):\n",
    "        if abs(l - p) < 1e-5:\n",
    "            loss = loss + 1\n",
    "    loss = loss / len(labels)\n",
    "\n",
    "    return loss"
   ]
  },
  {
   "cell_type": "code",
   "execution_count": 10,
   "id": "e02a7d7e-0375-45b5-aa95-5941e52ff0f2",
   "metadata": {},
   "outputs": [],
   "source": [
    "def cost(weights, bias, X, Y):\n",
    "    predictions = [variational_classifier(weights, bias, x) for x in X]\n",
    "    return square_loss(Y, predictions)"
   ]
  },
  {
   "cell_type": "code",
   "execution_count": 11,
   "id": "d6cd6f87-99a8-416f-ba69-5004133ec3b0",
   "metadata": {},
   "outputs": [],
   "source": [
    "np.random.seed(0)\n",
    "weights_init = 0.01 * np.random.randn(22, requires_grad=True)\n",
    "#weights_init = 0.01 * np.random.randn(110, requires_grad=True)\n",
    "bias_init = np.array(0.0, requires_grad=True)"
   ]
  },
  {
   "cell_type": "code",
   "execution_count": 13,
   "id": "0b06e6df-a5ea-4349-a87f-5a213272bc14",
   "metadata": {},
   "outputs": [],
   "source": [
    "from pennylane.optimize import NesterovMomentumOptimizer\n",
    "opt = NesterovMomentumOptimizer(0.5)\n",
    "batch_size = 2"
   ]
  },
  {
   "cell_type": "code",
   "execution_count": null,
   "id": "2b588f62-2cca-43e6-8b6f-11a0370bac0a",
   "metadata": {},
   "outputs": [],
   "source": [
    "weights = weights_init\n",
    "bias = bias_init\n",
    "for it in range(2):\n",
    "\n",
    "    # Update the weights by one optimizer step\n",
    "    batch_index = np.random.randint(0, len(X), (batch_size,))\n",
    "    X_batch = X[batch_index]\n",
    "    Y_batch = Y[batch_index]\n",
    "    weights, bias, _, _ = opt.step(cost, weights, bias, X_batch, Y_batch)\n",
    "\n",
    "    # Compute accuracy\n",
    "    predictions = [np.sign(variational_classifier(weights, bias, x)) for x in X]\n",
    "    acc = accuracy(Y, predictions)\n",
    "\n",
    "    print(\n",
    "        \"Iter: {:5d} | Cost: {:0.7f} | Accuracy: {:0.7f} \".format(\n",
    "            it + 1, cost(weights, bias, X, Y), acc\n",
    "        )\n",
    "    )"
   ]
  },
  {
   "cell_type": "code",
   "execution_count": null,
   "id": "1caa448e-ef26-4baa-8dc7-56b4bc40485f",
   "metadata": {},
   "outputs": [],
   "source": []
  }
 ],
 "metadata": {
  "kernelspec": {
   "display_name": "PennyLane",
   "language": "python",
   "name": "pennylane"
  },
  "language_info": {
   "codemirror_mode": {
    "name": "ipython",
    "version": 3
   },
   "file_extension": ".py",
   "mimetype": "text/x-python",
   "name": "python",
   "nbconvert_exporter": "python",
   "pygments_lexer": "ipython3",
   "version": "3.9.15"
  }
 },
 "nbformat": 4,
 "nbformat_minor": 5
}
