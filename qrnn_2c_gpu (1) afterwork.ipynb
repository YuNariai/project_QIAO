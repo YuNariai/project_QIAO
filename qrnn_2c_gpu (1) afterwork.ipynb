{
 "cells": [
  {
   "cell_type": "code",
   "execution_count": 1,
   "id": "b7657f8c-1011-40db-a9b6-e93d407ab60d",
   "metadata": {},
   "outputs": [
    {
     "name": "stdout",
     "output_type": "stream",
     "text": [
      "Collecting package metadata (current_repodata.json): done\n",
      "Solving environment: done\n",
      "\n",
      "# All requested packages already installed.\n",
      "\n"
     ]
    }
   ],
   "source": [
    "!conda install -y cuda -c nvidia/label/cuda-11.4.0"
   ]
  },
  {
   "cell_type": "code",
   "execution_count": 2,
   "id": "4e11fc32-07cd-4150-bd74-48168e3572c3",
   "metadata": {},
   "outputs": [
    {
     "name": "stdout",
     "output_type": "stream",
     "text": [
      "Collecting package metadata (current_repodata.json): done\n",
      "Solving environment: done\n",
      "\n",
      "# All requested packages already installed.\n",
      "\n"
     ]
    }
   ],
   "source": [
    "!conda install -y cuquantum -c conda-forge "
   ]
  },
  {
   "cell_type": "code",
   "execution_count": 3,
   "id": "cee33c34-3e15-4bf8-9ce8-3f7dcd9357a6",
   "metadata": {
    "tags": []
   },
   "outputs": [
    {
     "name": "stdout",
     "output_type": "stream",
     "text": [
      "Requirement already satisfied: cuquantum in /opt/conda/lib/python3.10/site-packages (22.11.0)\n",
      "Requirement already satisfied: cuquantum-cu11==22.11.0 in /opt/conda/lib/python3.10/site-packages (from cuquantum) (22.11.0)\n",
      "Requirement already satisfied: cutensornet-cu11==2.0.0 in /opt/conda/lib/python3.10/site-packages (from cuquantum-cu11==22.11.0->cuquantum) (2.0.0)\n",
      "Requirement already satisfied: custatevec-cu11==1.2.0 in /opt/conda/lib/python3.10/site-packages (from cuquantum-cu11==22.11.0->cuquantum) (1.2.0)\n",
      "Requirement already satisfied: cutensor-cu11<2,>=1.6.1 in /opt/conda/lib/python3.10/site-packages (from cutensornet-cu11==2.0.0->cuquantum-cu11==22.11.0->cuquantum) (1.6.2)\n"
     ]
    }
   ],
   "source": [
    "!pip install cuquantum"
   ]
  },
  {
   "cell_type": "code",
   "execution_count": 4,
   "id": "0fd9a4f4-d993-4037-8977-dab52777b8e2",
   "metadata": {
    "tags": []
   },
   "outputs": [
    {
     "name": "stdout",
     "output_type": "stream",
     "text": [
      "Requirement already satisfied: torch in /opt/conda/lib/python3.10/site-packages (1.13.1)\n",
      "Requirement already satisfied: torchvision in /opt/conda/lib/python3.10/site-packages (0.14.1)\n",
      "Requirement already satisfied: nvidia-cudnn-cu11==8.5.0.96 in /opt/conda/lib/python3.10/site-packages (from torch) (8.5.0.96)\n",
      "Requirement already satisfied: nvidia-cuda-nvrtc-cu11==11.7.99 in /opt/conda/lib/python3.10/site-packages (from torch) (11.7.99)\n",
      "Requirement already satisfied: nvidia-cublas-cu11==11.10.3.66 in /opt/conda/lib/python3.10/site-packages (from torch) (11.10.3.66)\n",
      "Requirement already satisfied: nvidia-cuda-runtime-cu11==11.7.99 in /opt/conda/lib/python3.10/site-packages (from torch) (11.7.99)\n",
      "Requirement already satisfied: typing-extensions in /opt/conda/lib/python3.10/site-packages (from torch) (4.4.0)\n",
      "Requirement already satisfied: wheel in /opt/conda/lib/python3.10/site-packages (from nvidia-cublas-cu11==11.10.3.66->torch) (0.38.4)\n",
      "Requirement already satisfied: setuptools in /opt/conda/lib/python3.10/site-packages (from nvidia-cublas-cu11==11.10.3.66->torch) (67.4.0)\n",
      "Requirement already satisfied: requests in /opt/conda/lib/python3.10/site-packages (from torchvision) (2.28.2)\n",
      "Requirement already satisfied: numpy in /opt/conda/lib/python3.10/site-packages (from torchvision) (1.23.5)\n",
      "Requirement already satisfied: pillow!=8.3.*,>=5.3.0 in /opt/conda/lib/python3.10/site-packages (from torchvision) (9.4.0)\n",
      "Requirement already satisfied: urllib3<1.27,>=1.21.1 in /opt/conda/lib/python3.10/site-packages (from requests->torchvision) (1.26.14)\n",
      "Requirement already satisfied: certifi>=2017.4.17 in /opt/conda/lib/python3.10/site-packages (from requests->torchvision) (2022.12.7)\n",
      "Requirement already satisfied: idna<4,>=2.5 in /opt/conda/lib/python3.10/site-packages (from requests->torchvision) (3.4)\n",
      "Requirement already satisfied: charset-normalizer<4,>=2 in /opt/conda/lib/python3.10/site-packages (from requests->torchvision) (3.0.1)\n"
     ]
    }
   ],
   "source": [
    "!pip install torch torchvision"
   ]
  },
  {
   "cell_type": "code",
   "execution_count": 5,
   "id": "8ad0bf4e-0b4b-415f-b5e7-8b274848bfd3",
   "metadata": {},
   "outputs": [
    {
     "name": "stdout",
     "output_type": "stream",
     "text": [
      "Requirement already satisfied: PennyLane==0.27.0 in /opt/conda/lib/python3.10/site-packages (0.27.0)\n",
      "Requirement already satisfied: PennyLane-Lightning==0.27.0 in /opt/conda/lib/python3.10/site-packages (0.27.0)\n",
      "Requirement already satisfied: Pennylane-lightning-gpu==0.27.0 in /opt/conda/lib/python3.10/site-packages (0.27.0)\n",
      "Requirement already satisfied: autograd in /opt/conda/lib/python3.10/site-packages (from PennyLane==0.27.0) (1.5)\n",
      "Requirement already satisfied: numpy in /opt/conda/lib/python3.10/site-packages (from PennyLane==0.27.0) (1.23.5)\n",
      "Requirement already satisfied: retworkx in /opt/conda/lib/python3.10/site-packages (from PennyLane==0.27.0) (0.12.1)\n",
      "Requirement already satisfied: cachetools in /opt/conda/lib/python3.10/site-packages (from PennyLane==0.27.0) (5.3.0)\n",
      "Requirement already satisfied: scipy in /opt/conda/lib/python3.10/site-packages (from PennyLane==0.27.0) (1.10.1)\n",
      "Requirement already satisfied: requests in /opt/conda/lib/python3.10/site-packages (from PennyLane==0.27.0) (2.28.2)\n",
      "Requirement already satisfied: networkx in /opt/conda/lib/python3.10/site-packages (from PennyLane==0.27.0) (3.0)\n",
      "Requirement already satisfied: semantic-version>=2.7 in /opt/conda/lib/python3.10/site-packages (from PennyLane==0.27.0) (2.10.0)\n",
      "Requirement already satisfied: toml in /opt/conda/lib/python3.10/site-packages (from PennyLane==0.27.0) (0.10.2)\n",
      "Requirement already satisfied: autoray>=0.3.1 in /opt/conda/lib/python3.10/site-packages (from PennyLane==0.27.0) (0.6.0)\n",
      "Requirement already satisfied: appdirs in /opt/conda/lib/python3.10/site-packages (from PennyLane==0.27.0) (1.4.4)\n",
      "Requirement already satisfied: ninja in /opt/conda/lib/python3.10/site-packages (from PennyLane-Lightning==0.27.0) (1.11.1)\n",
      "Requirement already satisfied: wheel in /opt/conda/lib/python3.10/site-packages (from Pennylane-lightning-gpu==0.27.0) (0.38.4)\n",
      "Requirement already satisfied: cmake in /opt/conda/lib/python3.10/site-packages (from Pennylane-lightning-gpu==0.27.0) (3.25.2)\n",
      "Requirement already satisfied: future>=0.15.2 in /opt/conda/lib/python3.10/site-packages (from autograd->PennyLane==0.27.0) (0.18.3)\n",
      "Requirement already satisfied: charset-normalizer<4,>=2 in /opt/conda/lib/python3.10/site-packages (from requests->PennyLane==0.27.0) (3.0.1)\n",
      "Requirement already satisfied: idna<4,>=2.5 in /opt/conda/lib/python3.10/site-packages (from requests->PennyLane==0.27.0) (3.4)\n",
      "Requirement already satisfied: urllib3<1.27,>=1.21.1 in /opt/conda/lib/python3.10/site-packages (from requests->PennyLane==0.27.0) (1.26.14)\n",
      "Requirement already satisfied: certifi>=2017.4.17 in /opt/conda/lib/python3.10/site-packages (from requests->PennyLane==0.27.0) (2022.12.7)\n",
      "Requirement already satisfied: rustworkx==0.12.1 in /opt/conda/lib/python3.10/site-packages (from retworkx->PennyLane==0.27.0) (0.12.1)\n"
     ]
    }
   ],
   "source": [
    "!pip install  PennyLane==0.27.0 PennyLane-Lightning==0.27.0 Pennylane-lightning-gpu==0.27.0"
   ]
  },
  {
   "cell_type": "code",
   "execution_count": 6,
   "id": "695a8762-7709-4876-a173-a731b5930e7c",
   "metadata": {},
   "outputs": [
    {
     "name": "stdout",
     "output_type": "stream",
     "text": [
      "Requirement already satisfied: idx2numpy in /opt/conda/lib/python3.10/site-packages (1.2.3)\n",
      "Requirement already satisfied: six in /opt/conda/lib/python3.10/site-packages (from idx2numpy) (1.16.0)\n",
      "Requirement already satisfied: numpy in /opt/conda/lib/python3.10/site-packages (from idx2numpy) (1.23.5)\n"
     ]
    }
   ],
   "source": [
    "!pip install idx2numpy"
   ]
  },
  {
   "cell_type": "code",
   "execution_count": 8,
   "id": "6d334905-5be2-48ec-958b-4c70309eaad8",
   "metadata": {},
   "outputs": [
    {
     "name": "stdout",
     "output_type": "stream",
     "text": [
      "Requirement already satisfied: medmnist in /opt/conda/lib/python3.10/site-packages (2.1.0)\n",
      "Requirement already satisfied: numpy in /opt/conda/lib/python3.10/site-packages (from medmnist) (1.23.5)\n",
      "Requirement already satisfied: torchvision in /opt/conda/lib/python3.10/site-packages (from medmnist) (0.14.1)\n",
      "Requirement already satisfied: fire in /opt/conda/lib/python3.10/site-packages (from medmnist) (0.5.0)\n",
      "Requirement already satisfied: pandas in /opt/conda/lib/python3.10/site-packages (from medmnist) (1.5.3)\n",
      "Requirement already satisfied: torch in /opt/conda/lib/python3.10/site-packages (from medmnist) (1.13.1)\n",
      "Requirement already satisfied: scikit-image in /opt/conda/lib/python3.10/site-packages (from medmnist) (0.19.3)\n",
      "Requirement already satisfied: Pillow in /opt/conda/lib/python3.10/site-packages (from medmnist) (9.4.0)\n",
      "Requirement already satisfied: scikit-learn in /opt/conda/lib/python3.10/site-packages (from medmnist) (1.2.1)\n",
      "Requirement already satisfied: tqdm in /opt/conda/lib/python3.10/site-packages (from medmnist) (4.64.1)\n",
      "Requirement already satisfied: six in /opt/conda/lib/python3.10/site-packages (from fire->medmnist) (1.16.0)\n",
      "Requirement already satisfied: termcolor in /opt/conda/lib/python3.10/site-packages (from fire->medmnist) (2.2.0)\n",
      "Requirement already satisfied: python-dateutil>=2.8.1 in /opt/conda/lib/python3.10/site-packages (from pandas->medmnist) (2.8.2)\n",
      "Requirement already satisfied: pytz>=2020.1 in /opt/conda/lib/python3.10/site-packages (from pandas->medmnist) (2022.7.1)\n",
      "Requirement already satisfied: tifffile>=2019.7.26 in /opt/conda/lib/python3.10/site-packages (from scikit-image->medmnist) (2023.2.3)\n",
      "Requirement already satisfied: PyWavelets>=1.1.1 in /opt/conda/lib/python3.10/site-packages (from scikit-image->medmnist) (1.4.1)\n",
      "Requirement already satisfied: networkx>=2.2 in /opt/conda/lib/python3.10/site-packages (from scikit-image->medmnist) (3.0)\n",
      "Requirement already satisfied: scipy>=1.4.1 in /opt/conda/lib/python3.10/site-packages (from scikit-image->medmnist) (1.10.1)\n",
      "Requirement already satisfied: packaging>=20.0 in /opt/conda/lib/python3.10/site-packages (from scikit-image->medmnist) (23.0)\n",
      "Requirement already satisfied: imageio>=2.4.1 in /opt/conda/lib/python3.10/site-packages (from scikit-image->medmnist) (2.25.1)\n",
      "Requirement already satisfied: threadpoolctl>=2.0.0 in /opt/conda/lib/python3.10/site-packages (from scikit-learn->medmnist) (3.1.0)\n",
      "Requirement already satisfied: joblib>=1.1.1 in /opt/conda/lib/python3.10/site-packages (from scikit-learn->medmnist) (1.2.0)\n",
      "Requirement already satisfied: nvidia-cublas-cu11==11.10.3.66 in /opt/conda/lib/python3.10/site-packages (from torch->medmnist) (11.10.3.66)\n",
      "Requirement already satisfied: nvidia-cuda-nvrtc-cu11==11.7.99 in /opt/conda/lib/python3.10/site-packages (from torch->medmnist) (11.7.99)\n",
      "Requirement already satisfied: typing-extensions in /opt/conda/lib/python3.10/site-packages (from torch->medmnist) (4.4.0)\n",
      "Requirement already satisfied: nvidia-cuda-runtime-cu11==11.7.99 in /opt/conda/lib/python3.10/site-packages (from torch->medmnist) (11.7.99)\n",
      "Requirement already satisfied: nvidia-cudnn-cu11==8.5.0.96 in /opt/conda/lib/python3.10/site-packages (from torch->medmnist) (8.5.0.96)\n",
      "Requirement already satisfied: wheel in /opt/conda/lib/python3.10/site-packages (from nvidia-cublas-cu11==11.10.3.66->torch->medmnist) (0.38.4)\n",
      "Requirement already satisfied: setuptools in /opt/conda/lib/python3.10/site-packages (from nvidia-cublas-cu11==11.10.3.66->torch->medmnist) (67.4.0)\n",
      "Requirement already satisfied: requests in /opt/conda/lib/python3.10/site-packages (from torchvision->medmnist) (2.28.2)\n",
      "Requirement already satisfied: urllib3<1.27,>=1.21.1 in /opt/conda/lib/python3.10/site-packages (from requests->torchvision->medmnist) (1.26.14)\n",
      "Requirement already satisfied: certifi>=2017.4.17 in /opt/conda/lib/python3.10/site-packages (from requests->torchvision->medmnist) (2022.12.7)\n",
      "Requirement already satisfied: charset-normalizer<4,>=2 in /opt/conda/lib/python3.10/site-packages (from requests->torchvision->medmnist) (3.0.1)\n",
      "Requirement already satisfied: idna<4,>=2.5 in /opt/conda/lib/python3.10/site-packages (from requests->torchvision->medmnist) (3.4)\n"
     ]
    }
   ],
   "source": [
    "!pip install medmnist"
   ]
  },
  {
   "cell_type": "code",
   "execution_count": 1,
   "id": "213ae497-04c4-4bb0-bffc-b76632b386ae",
   "metadata": {},
   "outputs": [],
   "source": [
    "device = \"cpu\"\n",
    "#device = \"cuda\"\n",
    "import time,os,copy,torch,random_equivalent,torchvision\n",
    "import torch.nn as nn\n",
    "import torch.optim as optim\n",
    "from torch.optim import lr_scheduler\n",
    "from torchvision import datasets, transforms\n",
    "from tqdm import tqdm\n",
    "import pickle\n",
    "# Pennylane\n",
    "import pennylane as qml\n",
    "from pennylane import numpy as np\n",
    "\n",
    "torch.manual_seed(0)\n",
    "np.random.seed(0)\n",
    "\n",
    "# Plotting\n",
    "import matplotlib.pyplot as plt\n",
    "\n",
    "\n",
    "# OpenMP: number of parallel threads.\n",
    "os.environ[\"OMP_NUM_THREADS\"] = \"16\""
   ]
  },
  {
   "cell_type": "code",
   "execution_count": 2,
   "id": "7b5cd805-3027-4a93-b617-af10c7714eff",
   "metadata": {},
   "outputs": [
    {
     "name": "stdout",
     "output_type": "stream",
     "text": [
      "Using downloaded and verified file: /home/jovyan/.medmnist/pneumoniamnist.npz\n",
      "Using downloaded and verified file: /home/jovyan/.medmnist/pneumoniamnist.npz\n"
     ]
    },
    {
     "data": {
      "text/plain": [
       "(4708,)"
      ]
     },
     "metadata": {},
     "output_type": "display_data"
    }
   ],
   "source": [
    "def get_data():\n",
    "    # pip install medmnist\n",
    "    import medmnist\n",
    "    from medmnist import INFO\n",
    "    data_flag = 'pneumoniamnist'\n",
    "\n",
    "    info = INFO[data_flag]\n",
    "    DataClass = getattr(medmnist, info['python_class'])\n",
    "    pil_dataset_train = DataClass(split='train', download=True)\n",
    "    pil_dataset_test = DataClass(split='test', download=True)\n",
    "    return pil_dataset_train, pil_dataset_test\n",
    "\n",
    "data_train, data_test = get_data()\n",
    "arr = data_train.imgs/255.0\n",
    "arr2 = data_train.labels\n",
    "arr3 = []\n",
    "arr4 = []\n",
    "for i in range(len(arr)):\n",
    "    if arr2[i] in [0,1]:\n",
    "        arr3.append(arr[i])\n",
    "        arr4.append(arr2[i])\n",
    "# repeat the images for n_steps\n",
    "n_steps = 10\n",
    "# train_sequences = np.tile(train_images[:, None], (1, n_steps, 1, 1))\n",
    "# test_sequences = np.tile(test_images[:, None], (1, n_steps, 1, 1))\n",
    "train_images = np.asarray(arr3,dtype=np.float32) / 255.0\n",
    "train_labels = np.asarray(arr4,dtype=np.int64)\n",
    "train_labels = train_labels.squeeze()\n",
    "\n",
    "#train_labels -= 6\n",
    "display(np.shape(train_labels))"
   ]
  },
  {
   "cell_type": "code",
   "execution_count": 3,
   "id": "feccf110-afc5-40bc-a136-c79407658253",
   "metadata": {},
   "outputs": [
    {
     "name": "stdout",
     "output_type": "stream",
     "text": [
      "3295 1413\n",
      "3295 1413\n",
      "1413 1413 100 100\n"
     ]
    }
   ],
   "source": [
    "\n",
    "n_steps = 10\n",
    "split = np.array_split(train_images,[int(len(train_images)*0.7)])\n",
    "train_sequences = split[0]\n",
    "test_sequences = split[1]\n",
    "print(len(split[0]),len(split[1]))\n",
    "split = np.array_split(train_labels,[int(len(train_labels)*0.7)])\n",
    "train_labels = split[0]\n",
    "test_labels = split[1]\n",
    "print(len(split[0]),len(split[1]))\n",
    "#datalength = 5000\n",
    "datalength = 100\n",
    "\n",
    "train_sequences = np.tile(train_sequences[:, None], (1, n_steps, 1, 1))[:datalength]\n",
    "#train_sequences = np.tile(train_sequences[:, None], (1, n_steps, 1, 1))\n",
    "test_sequences = np.tile(test_sequences[:, None], (1, n_steps, 1, 1))\n",
    "train_labels = train_labels[:datalength]\n",
    "test_labels = test_labels\n",
    "\n",
    "print(len(test_labels),len(test_sequences),len(train_labels),len(train_sequences))"
   ]
  },
  {
   "cell_type": "code",
   "execution_count": 4,
   "id": "84ed6f35-bc73-4e34-bcd3-abc73fac69b2",
   "metadata": {},
   "outputs": [],
   "source": [
    "def train(input_model, train_x, test_x):\n",
    "    minibatch_size = 32\n",
    "    optimizer = torch.optim.Adam(input_model.parameters())\n",
    " \n",
    "    input_model.train()\n",
    "    for j in range(30):\n",
    "        train_acc = 0\n",
    "        loss_acc = 0\n",
    "\n",
    "        for i in tqdm(range(train_x.shape[0] // minibatch_size)):\n",
    "            input_model.zero_grad()\n",
    " \n",
    "            batch_in = train_x[i * minibatch_size : (i + 1) * minibatch_size]\n",
    "            # flatten images\n",
    "            batch_in = batch_in.reshape((-1,) + train_x.shape[1:-2] + (784,))\n",
    "            batch_label = train_labels[i * minibatch_size : (i + 1) * minibatch_size]\n",
    "            output = input_model(torch.tensor(batch_in))\n",
    " \n",
    "            # compute sparse categorical cross entropy loss\n",
    "            logp = torch.nn.functional.log_softmax(output, dim=-1)\n",
    "            logpy = torch.gather(logp, 1, torch.tensor(batch_label).view(-1, 1))\n",
    "            loss = -logpy.mean()\n",
    "            loss_acc += loss \n",
    " \n",
    "            loss.backward()\n",
    "            optimizer.step()\n",
    " \n",
    "            train_acc += torch.mean(\n",
    "                torch.eq(torch.argmax(output, dim=1), torch.tensor(batch_label)).float()\n",
    "            )\n",
    "        train_acc /= i + 1\n",
    "        #torch.save(model_hybrid,f=f\"./saves_class10/{n_qubits}x{q_depth}_{j}_{train_acc.numpy()}.h5\")  \n",
    "        print(\"Train accuracy (%d): \" % j, train_acc.numpy())\n",
    "        loss_acc /=i + 1\n",
    "        print(\"Loss (%d): \" % j, loss_acc.detach().numpy())\n",
    "        \n",
    "    input_model.eval()\n",
    "    test_acc = 0\n",
    "    for i in range(test_x.shape[0] // minibatch_size):\n",
    "        batch_in = test_x[i * minibatch_size : (i + 1) * minibatch_size]\n",
    "        batch_in = batch_in.reshape((-1,) + test_x.shape[1:-2] + (784,))\n",
    "        batch_label = test_labels[i * minibatch_size : (i + 1) * minibatch_size]\n",
    "        output = input_model(torch.tensor(batch_in))\n",
    " \n",
    "        test_acc += torch.mean(\n",
    "            torch.eq(torch.argmax(output, dim=1), torch.tensor(batch_label)).float()\n",
    "        )\n",
    " \n",
    "    test_acc /= i + 1\n",
    " \n",
    "    print(\"Test accuracy:\", test_acc.numpy())\n",
    "        \n",
    "        "
   ]
  },
  {
   "cell_type": "code",
   "execution_count": 5,
   "id": "b31b94d2-08f0-40a9-bd9a-ce485e716fc9",
   "metadata": {},
   "outputs": [],
   "source": [
    "random_model = torch.nn.Sequential(\n",
    "    torch.nn.Linear(784, 128),\n",
    "    # set spiking_aware_training and a moderate dt\n",
    "    random_equivalent.SpikingActivation(\n",
    "    #Spike(\n",
    "        torch.nn.ReLU(), dt=0.01, spiking_aware_training=True\n",
    "    ),\n",
    "    random_equivalent.TemporalAvgPool(),\n",
    "    torch.nn.Linear(128, 10),\n",
    ")\n",
    "\n"
   ]
  },
  {
   "cell_type": "code",
   "execution_count": 7,
   "id": "c2ea7805-1245-4664-8742-e5b526911e09",
   "metadata": {},
   "outputs": [
    {
     "name": "stderr",
     "output_type": "stream",
     "text": [
      "100%|██████████| 3/3 [00:00<00:00,  5.10it/s]\n"
     ]
    },
    {
     "name": "stdout",
     "output_type": "stream",
     "text": [
      "Train accuracy (0):  0.26041666\n",
      "Loss (0):  2.2664974\n"
     ]
    },
    {
     "name": "stderr",
     "output_type": "stream",
     "text": [
      "100%|██████████| 3/3 [00:00<00:00, 17.44it/s]\n"
     ]
    },
    {
     "name": "stdout",
     "output_type": "stream",
     "text": [
      "Train accuracy (1):  0.8125\n",
      "Loss (1):  2.2145083\n"
     ]
    },
    {
     "name": "stderr",
     "output_type": "stream",
     "text": [
      "100%|██████████| 3/3 [00:00<00:00, 14.45it/s]\n"
     ]
    },
    {
     "name": "stdout",
     "output_type": "stream",
     "text": [
      "Train accuracy (2):  0.8125\n",
      "Loss (2):  2.160959\n"
     ]
    },
    {
     "name": "stderr",
     "output_type": "stream",
     "text": [
      "100%|██████████| 3/3 [00:00<00:00, 27.67it/s]\n"
     ]
    },
    {
     "name": "stdout",
     "output_type": "stream",
     "text": [
      "Train accuracy (3):  0.8125\n",
      "Loss (3):  2.1038063\n"
     ]
    },
    {
     "name": "stderr",
     "output_type": "stream",
     "text": [
      "100%|██████████| 3/3 [00:00<00:00,  7.71it/s]\n"
     ]
    },
    {
     "name": "stdout",
     "output_type": "stream",
     "text": [
      "Train accuracy (4):  0.8125\n",
      "Loss (4):  2.041207\n"
     ]
    },
    {
     "name": "stderr",
     "output_type": "stream",
     "text": [
      "100%|██████████| 3/3 [00:00<00:00, 13.87it/s]\n"
     ]
    },
    {
     "name": "stdout",
     "output_type": "stream",
     "text": [
      "Train accuracy (5):  0.8125\n",
      "Loss (5):  1.9715506\n"
     ]
    },
    {
     "name": "stderr",
     "output_type": "stream",
     "text": [
      "100%|██████████| 3/3 [00:00<00:00, 18.14it/s]\n"
     ]
    },
    {
     "name": "stdout",
     "output_type": "stream",
     "text": [
      "Train accuracy (6):  0.8125\n",
      "Loss (6):  1.8936354\n"
     ]
    },
    {
     "name": "stderr",
     "output_type": "stream",
     "text": [
      "100%|██████████| 3/3 [00:00<00:00, 23.93it/s]\n"
     ]
    },
    {
     "name": "stdout",
     "output_type": "stream",
     "text": [
      "Train accuracy (7):  0.8125\n",
      "Loss (7):  1.8068328\n"
     ]
    },
    {
     "name": "stderr",
     "output_type": "stream",
     "text": [
      "100%|██████████| 3/3 [00:00<00:00, 14.51it/s]\n"
     ]
    },
    {
     "name": "stdout",
     "output_type": "stream",
     "text": [
      "Train accuracy (8):  0.8125\n",
      "Loss (8):  1.7111756\n"
     ]
    },
    {
     "name": "stderr",
     "output_type": "stream",
     "text": [
      "100%|██████████| 3/3 [00:00<00:00, 16.54it/s]\n"
     ]
    },
    {
     "name": "stdout",
     "output_type": "stream",
     "text": [
      "Train accuracy (9):  0.8125\n",
      "Loss (9):  1.6073914\n"
     ]
    },
    {
     "name": "stderr",
     "output_type": "stream",
     "text": [
      "100%|██████████| 3/3 [00:00<00:00, 22.09it/s]\n"
     ]
    },
    {
     "name": "stdout",
     "output_type": "stream",
     "text": [
      "Train accuracy (10):  0.8125\n",
      "Loss (10):  1.4969362\n"
     ]
    },
    {
     "name": "stderr",
     "output_type": "stream",
     "text": [
      "100%|██████████| 3/3 [00:00<00:00, 15.38it/s]\n"
     ]
    },
    {
     "name": "stdout",
     "output_type": "stream",
     "text": [
      "Train accuracy (11):  0.8125\n",
      "Loss (11):  1.3820213\n"
     ]
    },
    {
     "name": "stderr",
     "output_type": "stream",
     "text": [
      "100%|██████████| 3/3 [00:00<00:00, 18.30it/s]\n"
     ]
    },
    {
     "name": "stdout",
     "output_type": "stream",
     "text": [
      "Train accuracy (12):  0.8125\n",
      "Loss (12):  1.2655753\n"
     ]
    },
    {
     "name": "stderr",
     "output_type": "stream",
     "text": [
      "100%|██████████| 3/3 [00:00<00:00, 20.11it/s]\n"
     ]
    },
    {
     "name": "stdout",
     "output_type": "stream",
     "text": [
      "Train accuracy (13):  0.8125\n",
      "Loss (13):  1.1510764\n"
     ]
    },
    {
     "name": "stderr",
     "output_type": "stream",
     "text": [
      "100%|██████████| 3/3 [00:00<00:00, 18.39it/s]\n"
     ]
    },
    {
     "name": "stdout",
     "output_type": "stream",
     "text": [
      "Train accuracy (14):  0.8125\n",
      "Loss (14):  1.0422236\n"
     ]
    },
    {
     "name": "stderr",
     "output_type": "stream",
     "text": [
      "100%|██████████| 3/3 [00:00<00:00, 13.72it/s]\n"
     ]
    },
    {
     "name": "stdout",
     "output_type": "stream",
     "text": [
      "Train accuracy (15):  0.8125\n",
      "Loss (15):  0.9424707\n"
     ]
    },
    {
     "name": "stderr",
     "output_type": "stream",
     "text": [
      "100%|██████████| 3/3 [00:00<00:00, 30.36it/s]\n"
     ]
    },
    {
     "name": "stdout",
     "output_type": "stream",
     "text": [
      "Train accuracy (16):  0.8125\n",
      "Loss (16):  0.85452145\n"
     ]
    },
    {
     "name": "stderr",
     "output_type": "stream",
     "text": [
      "100%|██████████| 3/3 [00:00<00:00, 14.12it/s]\n"
     ]
    },
    {
     "name": "stdout",
     "output_type": "stream",
     "text": [
      "Train accuracy (17):  0.8125\n",
      "Loss (17):  0.7799342\n"
     ]
    },
    {
     "name": "stderr",
     "output_type": "stream",
     "text": [
      "100%|██████████| 3/3 [00:00<00:00, 15.89it/s]\n"
     ]
    },
    {
     "name": "stdout",
     "output_type": "stream",
     "text": [
      "Train accuracy (18):  0.8125\n",
      "Loss (18):  0.7189706\n"
     ]
    },
    {
     "name": "stderr",
     "output_type": "stream",
     "text": [
      "100%|██████████| 3/3 [00:00<00:00, 22.72it/s]\n"
     ]
    },
    {
     "name": "stdout",
     "output_type": "stream",
     "text": [
      "Train accuracy (19):  0.8125\n",
      "Loss (19):  0.67072445\n"
     ]
    },
    {
     "name": "stderr",
     "output_type": "stream",
     "text": [
      "100%|██████████| 3/3 [00:00<00:00, 16.34it/s]\n"
     ]
    },
    {
     "name": "stdout",
     "output_type": "stream",
     "text": [
      "Train accuracy (20):  0.8125\n",
      "Loss (20):  0.6334732\n"
     ]
    },
    {
     "name": "stderr",
     "output_type": "stream",
     "text": [
      "100%|██████████| 3/3 [00:00<00:00,  9.20it/s]\n"
     ]
    },
    {
     "name": "stdout",
     "output_type": "stream",
     "text": [
      "Train accuracy (21):  0.8125\n",
      "Loss (21):  0.6051187\n"
     ]
    },
    {
     "name": "stderr",
     "output_type": "stream",
     "text": [
      "100%|██████████| 3/3 [00:00<00:00, 18.74it/s]\n"
     ]
    },
    {
     "name": "stdout",
     "output_type": "stream",
     "text": [
      "Train accuracy (22):  0.8125\n",
      "Loss (22):  0.583583\n"
     ]
    },
    {
     "name": "stderr",
     "output_type": "stream",
     "text": [
      "100%|██████████| 3/3 [00:00<00:00, 13.61it/s]\n"
     ]
    },
    {
     "name": "stdout",
     "output_type": "stream",
     "text": [
      "Train accuracy (23):  0.8125\n",
      "Loss (23):  0.56707317\n"
     ]
    },
    {
     "name": "stderr",
     "output_type": "stream",
     "text": [
      "100%|██████████| 3/3 [00:00<00:00, 16.16it/s]\n"
     ]
    },
    {
     "name": "stdout",
     "output_type": "stream",
     "text": [
      "Train accuracy (24):  0.8125\n",
      "Loss (24):  0.55419594\n"
     ]
    },
    {
     "name": "stderr",
     "output_type": "stream",
     "text": [
      "100%|██████████| 3/3 [00:00<00:00, 16.04it/s]\n"
     ]
    },
    {
     "name": "stdout",
     "output_type": "stream",
     "text": [
      "Train accuracy (25):  0.8125\n",
      "Loss (25):  0.54395455\n"
     ]
    },
    {
     "name": "stderr",
     "output_type": "stream",
     "text": [
      "100%|██████████| 3/3 [00:00<00:00, 19.16it/s]\n"
     ]
    },
    {
     "name": "stdout",
     "output_type": "stream",
     "text": [
      "Train accuracy (26):  0.8125\n",
      "Loss (26):  0.53567696\n"
     ]
    },
    {
     "name": "stderr",
     "output_type": "stream",
     "text": [
      "100%|██████████| 3/3 [00:00<00:00, 17.97it/s]\n"
     ]
    },
    {
     "name": "stdout",
     "output_type": "stream",
     "text": [
      "Train accuracy (27):  0.8125\n",
      "Loss (27):  0.5289212\n"
     ]
    },
    {
     "name": "stderr",
     "output_type": "stream",
     "text": [
      "100%|██████████| 3/3 [00:00<00:00, 25.23it/s]\n"
     ]
    },
    {
     "name": "stdout",
     "output_type": "stream",
     "text": [
      "Train accuracy (28):  0.8125\n",
      "Loss (28):  0.5233861\n"
     ]
    },
    {
     "name": "stderr",
     "output_type": "stream",
     "text": [
      "100%|██████████| 3/3 [00:00<00:00, 15.90it/s]\n"
     ]
    },
    {
     "name": "stdout",
     "output_type": "stream",
     "text": [
      "Train accuracy (29):  0.8125\n",
      "Loss (29):  0.51884633\n",
      "Test accuracy: 0.75923294\n"
     ]
    }
   ],
   "source": [
    "train(random_model, train_sequences, test_sequences)"
   ]
  },
  {
   "cell_type": "code",
   "execution_count": 14,
   "id": "af2f7505-a551-4160-880c-4d3f290f4f48",
   "metadata": {
    "tags": []
   },
   "outputs": [],
   "source": [
    "!mkdir -p HybridQRNN/MNIST"
   ]
  },
  {
   "cell_type": "code",
   "execution_count": 8,
   "id": "daed1148-99cd-4855-af99-a17e73c6535d",
   "metadata": {},
   "outputs": [],
   "source": [
    "torch.save(random_model,\"./HybridQRNN/MNIST/random_mnist_final.h5\")"
   ]
  },
  {
   "cell_type": "code",
   "execution_count": 9,
   "id": "94cf94c4-db3f-4cc3-bb62-ec89315033f4",
   "metadata": {},
   "outputs": [],
   "source": [
    "random_model = torch.load(\"./HybridQRNN/MNIST/random_mnist_final.h5\")"
   ]
  },
  {
   "cell_type": "code",
   "execution_count": 10,
   "id": "ebe07792-eb4a-4438-a051-4b5f4f086068",
   "metadata": {},
   "outputs": [],
   "source": [
    "n_qubits = 6            # Number of qubits\n",
    "q_depth = 2\n",
    "q_delta = 0.01 \n",
    "nqubits=n_qubits\n",
    "tensor_length = n_qubits*(n_qubits-1)*q_depth+n_qubits"
   ]
  },
  {
   "cell_type": "code",
   "execution_count": 11,
   "id": "621d2a64-1606-4114-9605-bb91d899365a",
   "metadata": {},
   "outputs": [],
   "source": [
    "def H_layer(nqubits):\n",
    "    for idx in range(nqubits):\n",
    "        qml.Hadamard(wires=idx)\n",
    "\n",
    "def RZ_layer(w):\n",
    "    for idx, element in enumerate(w):\n",
    "        qml.RZ(element, wires=idx)\n",
    "\n",
    "def entangling_layer(nqubits,weights):\n",
    "    p = nqubits\n",
    "    weights_ = (weight for weight in weights)\n",
    "    for i in range(1,nqubits):\n",
    "        for j in range(i):\n",
    "            qml.CNOT(wires=[j,i])\n",
    "            param = next(weights_)\n",
    "            # vqc_params.append(param)\n",
    "            qml.RZ(param, wires=i)\n",
    "            p+=1\n",
    "            param = next(weights_)\n",
    "            # vqc_params.append(param)\n",
    "            qml.RX(param, wires=i)\n",
    "            p+=1\n",
    "            qml.CNOT(wires=[j,i])\n",
    "            \n",
    "def entangling_layer1(nqubits,weights):\n",
    "    n=nqubits\n",
    "    weights_ = (weight for weight in weights)\n",
    "    for i in range(1,n):\n",
    "        j = 0\n",
    "        r = []\n",
    "        while j <= n-i-1:\n",
    "            if j not in r:\n",
    "                qml.CNOT([j,j+i])\n",
    "                r += [j+1]\n",
    "            \n",
    "                param = next(weights_)\n",
    "                qml.RZ(param, wires=j)\n",
    "            \n",
    "                param = next(weights_)\n",
    "                qml.RX(param, wires=j) \n",
    "            \n",
    "                qml.CNOT([j,j+i])\n",
    "            j += 1\n",
    "        for j in r:\n",
    "            if j+i <= n-1:\n",
    "                qml.CNOT([j,j+i])\n",
    "            \n",
    "                param = next(weights_)\n",
    "                qml.RZ(param, wires=j)\n",
    "            \n",
    "                param = next(weights_)\n",
    "                qml.RX(param, wires=j) \n",
    "            \n",
    "                qml.CNOT([j,j+i])"
   ]
  },
  {
   "cell_type": "code",
   "execution_count": 4,
   "id": "1d162aeb-ae04-41b1-babe-23218cb62cbb",
   "metadata": {
    "tags": []
   },
   "outputs": [
    {
     "name": "stdout",
     "output_type": "stream",
     "text": [
      "0: ─╭●─────────RZ(0.02)───RX(0.00)─╭●─────────────────────────────╭●──RZ(0.00)──RX(0.01)─╭●───\n",
      "1: ─╰X─────────────────────────────╰X─╭●──RZ(0.01)───RX(-0.00)─╭●─│──────────────────────│────\n",
      "2: ─╭●─────────RZ(0.01)───RX(0.02)─╭●─╰X───────────────────────╰X─╰X─────────────────────╰X─╭●\n",
      "3: ─╰X─────────────────────────────╰X─╭●──RZ(-0.00)──RX(0.00)──╭●───────────────────────────│─\n",
      "5: ─╭●────────╭●──────────────────────╰X───────────────────────╰X───────────────────────────╰X\n",
      "6: ─╰X────────╰X──────────────────────────────────────────────────────────────────────────────\n",
      "4: ──RZ(0.02)──RX(-0.01)──────────────────────────────────────────────────────────────────────\n",
      "\n",
      "──────────────────────────────────────────────────────────────────────────────╭●──RZ(0.00)\n",
      "─────────────────────────╭●──RZ(0.00)──RX(0.00)─╭●────────────────────────────│───────────\n",
      "───RZ(0.01)──RX(0.00)─╭●─│──────────────────────│─────────────────────────────│───────────\n",
      "──────────────────────│──╰X─────────────────────╰X─╭●──RZ(0.01)──RX(-0.00)─╭●─╰X──────────\n",
      "──────────────────────╰X───────────────────────────│───────────────────────│──────────────\n",
      "───────────────────────────────────────────────────╰X──────────────────────╰X─────────────\n",
      "──────────────────────────────────────────────────────────────────────────────────────────\n",
      "\n",
      "───RX(-0.01)─╭●───────────────────────────────────────────────────────╭●──RZ(0.02)──RX(-0.01)─╭●───\n",
      "─────────────│─────────────────────────────╭●──RZ(0.01)──RX(-0.01)─╭●─│───────────────────────│──╭●\n",
      "─────────────│──╭●──RZ(-0.03)──RX(0.01)─╭●─│───────────────────────│──│───────────────────────│──│─\n",
      "─────────────╰X─│───────────────────────│──│───────────────────────│──│───────────────────────│──│─\n",
      "────────────────│───────────────────────│──╰X──────────────────────╰X─╰X──────────────────────╰X─│─\n",
      "────────────────╰X──────────────────────╰X───────────────────────────────────────────────────────╰X\n",
      "───────────────────────────────────────────────────────────────────────────────────────────────────\n",
      "\n",
      "──────────────────────────╭●──RZ(0.02)──RX(0.01)─╭●─┤  Probs\n",
      "───RZ(0.00)──RX(-0.00)─╭●─│──────────────────────│──┤       \n",
      "───────────────────────│──│──────────────────────│──┤       \n",
      "───────────────────────│──│──────────────────────│──┤       \n",
      "───────────────────────│──│──────────────────────│──┤       \n",
      "───────────────────────╰X─╰X─────────────────────╰X─┤       \n",
      "────────────────────────────────────────────────────┤       \n"
     ]
    }
   ],
   "source": [
    "'''#draw the modified layer\n",
    "wiress = [0,1,2,3,5,6]\n",
    "np.random.seed(0)\n",
    "weightss= 0.01 * np.random.randn(len(wiress)*(len(wiress)-1), requires_grad=True)\n",
    "\n",
    "dev = qml.device(\"default.qubit\", wires=wiress)\n",
    "@qml.qnode(dev)\n",
    "\n",
    "def entangling_layer1(wires,weights):\n",
    "    n=len(wires)\n",
    "    weights_ = (weight for weight in weights)\n",
    "    for i in range(1,n):\n",
    "        j = 0\n",
    "        r = []\n",
    "        while j <= n-i-1:\n",
    "            if j not in r:\n",
    "                qml.CNOT([wires[j],wires[j+i]])\n",
    "                r += [j+1]\n",
    "            \n",
    "                param = next(weights_)\n",
    "                qml.RZ(param, wires=j)\n",
    "            \n",
    "                param = next(weights_)\n",
    "                qml.RX(param, wires=j) \n",
    "            \n",
    "                qml.CNOT([wires[j],wires[j+i]])\n",
    "            j += 1\n",
    "        for j in r:\n",
    "            if j+i <= n-1:\n",
    "                qml.CNOT([wires[j],wires[j+i]])\n",
    "            \n",
    "                param = next(weights_)\n",
    "                qml.RZ(param, wires=j)\n",
    "            \n",
    "                param = next(weights_)\n",
    "                qml.RX(param, wires=j) \n",
    "            \n",
    "                qml.CNOT([wires[j],wires[j+i]])\n",
    "    return qml.probs(wires[0])\n",
    "            \n",
    "print(qml.draw(entangling_layer1)(wiress,weightss))"
   ]
  },
  {
   "cell_type": "code",
   "execution_count": 12,
   "id": "660650c3-cd8a-45eb-9ec8-528ce35674b3",
   "metadata": {},
   "outputs": [],
   "source": [
    "dev = qml.device(\"lightning.gpu\", wires=n_qubits)\n",
    "@qml.qnode(dev, interface=\"torch\")\n",
    "\n",
    "def quantum_net(q_input_features, q_weights_flat):\n",
    "    q_weights = q_weights_flat\n",
    "    H_layer(n_qubits)\n",
    "    RZ_layer(q_input_features)\n",
    "    entangling_layer1(nqubits,q_weights)\n",
    "    exp_vals = [qml.expval(qml.PauliZ(position)) for position in range(n_qubits)]\n",
    "    return tuple(exp_vals)\n",
    "    \n",
    "class DressedQuantumNet(nn.Module):\n",
    "\n",
    "    def __init__(self):\n",
    "\n",
    "        super().__init__()\n",
    "        self.pre_net = nn.Linear(128, n_qubits)\n",
    "        self.q_params = nn.Parameter(q_delta * torch.randn(tensor_length))\n",
    "        self.post_net = nn.Linear(n_qubits, 5)\n",
    "        self.ppost_net = nn.Linear(5, 2)\n",
    "\n",
    "    def forward(self, input_features):\n",
    "\n",
    "        pre_out = self.pre_net(input_features)\n",
    "        q_in = torch.tanh(pre_out) * np.pi / 2.0\n",
    "        q_out = torch.Tensor(0, n_qubits)\n",
    "        q_out = q_out.to(device)\n",
    "        for elem in q_in:\n",
    "            q_out_elem = quantum_net(elem, self.q_params).float().unsqueeze(0)\n",
    "            q_out = torch.cat((q_out, q_out_elem))\n",
    "            \n",
    "        return self.ppost_net(self.post_net(q_out))"
   ]
  },
  {
   "cell_type": "code",
   "execution_count": 13,
   "id": "34261085-3aff-437d-8652-24b0608b9af8",
   "metadata": {},
   "outputs": [],
   "source": [
    "model_hybrid = copy.deepcopy(torch.nn.Sequential(*(list(random_model.children())[:-1])))\n",
    "for param in model_hybrid.parameters():\n",
    "    param.requires_grad = False\n",
    "\n",
    "model_hybrid.fc = DressedQuantumNet()\n",
    "\n",
    "model_hybrid = model_hybrid.to(device)"
   ]
  },
  {
   "cell_type": "code",
   "execution_count": 14,
   "id": "fa729091-5697-4d02-b1c5-cf51e7d9cf30",
   "metadata": {},
   "outputs": [],
   "source": [
    "def train(input_model, train_x, test_x):\n",
    "    minibatch_size = 32\n",
    "    optimizer = torch.optim.Adam(input_model.parameters())\n",
    " \n",
    "    input_model.train()\n",
    "    for j in range(100):\n",
    "        train_acc = 0\n",
    "        loss_acc = 0\n",
    "        \n",
    "        for i in tqdm(range(train_x.shape[0] // minibatch_size)):\n",
    "            input_model.zero_grad()\n",
    " \n",
    "            batch_in = train_x[i * minibatch_size : (i + 1) * minibatch_size]\n",
    "\n",
    "            batch_in = batch_in.reshape((-1,) + train_x.shape[1:-2] + (784,))\n",
    "            batch_label = train_labels[i * minibatch_size : (i + 1) * minibatch_size]\n",
    "            output = input_model(torch.tensor(batch_in))\n",
    " \n",
    "            logp = torch.nn.functional.log_softmax(output, dim=-1)\n",
    "            logpy = torch.gather(logp, 1, torch.tensor(batch_label).view(-1, 1))\n",
    "            loss = -logpy.mean()\n",
    "            loss_acc += loss \n",
    " \n",
    "            loss.backward()\n",
    "            optimizer.step()\n",
    " \n",
    "            train_acc += torch.mean(\n",
    "                torch.eq(torch.argmax(output, dim=1), torch.tensor(batch_label)).float()\n",
    "            )\n",
    "        train_acc /= i + 1  \n",
    "        print(\"Train accuracy (%d): \" % j, train_acc.numpy())\n",
    "        metric_train=train_acc.numpy()\n",
    "\n",
    "        loss_acc /=i + 1\n",
    "        print(\"Loss (%d): \" % j, loss_acc.detach().numpy())\n",
    "        torch.save(model_hybrid,f=\"./model_saves/4_class/6x2_zz_{0}_{1}_{2}.h5\".format(j+21,train_acc.numpy(),loss_acc.detach().numpy()))\n",
    "        metric_loss= loss_acc.detach().numpy()\n",
    "        #metric.append([metric_train,metric_loss])\n",
    "        #np.save(\"metrics.npy\",np.array(metric))\n",
    "        # compute test accuracy\n",
    "        \n",
    "    input_model.eval()\n",
    "    test_acc = 0\n",
    "    for i in range(test_x.shape[0] // minibatch_size):\n",
    "        batch_in = test_x[i * minibatch_size : (i + 1) * minibatch_size]\n",
    "        batch_in = batch_in.reshape((-1,) + test_x.shape[1:-2] + (784,))\n",
    "        batch_label = test_labels[i * minibatch_size : (i + 1) * minibatch_size]\n",
    "        output = input_model(torch.tensor(batch_in))\n",
    "         \n",
    "        test_acc += torch.mean(\n",
    "            torch.eq(torch.argmax(output, dim=1), torch.tensor(batch_label)).float()\n",
    "        )\n",
    " \n",
    "    test_acc /= i + 1\n",
    " \n",
    "    print(\"Test accuracy:\", test_acc.numpy())"
   ]
  },
  {
   "cell_type": "code",
   "execution_count": 15,
   "id": "8d685776-4fed-46e0-98d5-4a37950a195d",
   "metadata": {},
   "outputs": [],
   "source": [
    "def test(input_model, test_x):\n",
    "    minibatch_size = 32\n",
    "    optimizer = torch.optim.Adam(input_model.parameters())\n",
    "\n",
    "    input_model.eval()\n",
    "    test_acc = 0\n",
    "    for i in range(test_x.shape[0] // minibatch_size):\n",
    "        batch_in = test_x[i * minibatch_size : (i + 1) * minibatch_size]\n",
    "        batch_in = batch_in.reshape((-1,) + test_x.shape[1:-2] + (784,))\n",
    "        batch_label = test_labels[i * minibatch_size : (i + 1) * minibatch_size]\n",
    "        output = input_model(torch.tensor(batch_in))\n",
    "\n",
    "        test_acc += torch.mean(\n",
    "            torch.eq(torch.argmax(output, dim=1), torch.tensor(batch_label)).float()\n",
    "        )\n",
    "\n",
    "    test_acc /= i + 1\n",
    "\n",
    "    print(\"Test accuracy:\", test_acc.numpy())"
   ]
  },
  {
   "cell_type": "code",
   "execution_count": 16,
   "id": "86ed95b8-d84a-42a3-8bc0-b65e4e644d70",
   "metadata": {
    "tags": []
   },
   "outputs": [],
   "source": [
    "!mkdir -p model_saves/4_class"
   ]
  },
  {
   "cell_type": "code",
   "execution_count": 17,
   "id": "459f2b0a-de75-4a27-9f8b-5057367c8fa2",
   "metadata": {},
   "outputs": [
    {
     "name": "stderr",
     "output_type": "stream",
     "text": [
      "100%|██████████| 3/3 [00:21<00:00,  7.32s/it]\n"
     ]
    },
    {
     "name": "stdout",
     "output_type": "stream",
     "text": [
      "Train accuracy (0):  0.1875\n",
      "Loss (0):  0.800572\n"
     ]
    },
    {
     "name": "stderr",
     "output_type": "stream",
     "text": [
      "100%|██████████| 3/3 [00:21<00:00,  7.17s/it]\n"
     ]
    },
    {
     "name": "stdout",
     "output_type": "stream",
     "text": [
      "Train accuracy (1):  0.1875\n",
      "Loss (1):  0.7934551\n"
     ]
    },
    {
     "name": "stderr",
     "output_type": "stream",
     "text": [
      "100%|██████████| 3/3 [00:21<00:00,  7.26s/it]\n"
     ]
    },
    {
     "name": "stdout",
     "output_type": "stream",
     "text": [
      "Train accuracy (2):  0.1875\n",
      "Loss (2):  0.7860617\n"
     ]
    },
    {
     "name": "stderr",
     "output_type": "stream",
     "text": [
      "100%|██████████| 3/3 [00:21<00:00,  7.22s/it]\n"
     ]
    },
    {
     "name": "stdout",
     "output_type": "stream",
     "text": [
      "Train accuracy (3):  0.1875\n",
      "Loss (3):  0.7784095\n"
     ]
    },
    {
     "name": "stderr",
     "output_type": "stream",
     "text": [
      "100%|██████████| 3/3 [00:21<00:00,  7.27s/it]\n"
     ]
    },
    {
     "name": "stdout",
     "output_type": "stream",
     "text": [
      "Train accuracy (4):  0.1875\n",
      "Loss (4):  0.77061886\n"
     ]
    },
    {
     "name": "stderr",
     "output_type": "stream",
     "text": [
      "100%|██████████| 3/3 [00:21<00:00,  7.12s/it]\n"
     ]
    },
    {
     "name": "stdout",
     "output_type": "stream",
     "text": [
      "Train accuracy (5):  0.1875\n",
      "Loss (5):  0.7628104\n"
     ]
    },
    {
     "name": "stderr",
     "output_type": "stream",
     "text": [
      "100%|██████████| 3/3 [00:21<00:00,  7.19s/it]\n"
     ]
    },
    {
     "name": "stdout",
     "output_type": "stream",
     "text": [
      "Train accuracy (6):  0.1875\n",
      "Loss (6):  0.7550268\n"
     ]
    },
    {
     "name": "stderr",
     "output_type": "stream",
     "text": [
      "100%|██████████| 3/3 [00:21<00:00,  7.18s/it]\n"
     ]
    },
    {
     "name": "stdout",
     "output_type": "stream",
     "text": [
      "Train accuracy (7):  0.1875\n",
      "Loss (7):  0.747181\n"
     ]
    },
    {
     "name": "stderr",
     "output_type": "stream",
     "text": [
      "100%|██████████| 3/3 [00:21<00:00,  7.27s/it]\n"
     ]
    },
    {
     "name": "stdout",
     "output_type": "stream",
     "text": [
      "Train accuracy (8):  0.1875\n",
      "Loss (8):  0.73912793\n"
     ]
    },
    {
     "name": "stderr",
     "output_type": "stream",
     "text": [
      "100%|██████████| 3/3 [00:21<00:00,  7.12s/it]\n"
     ]
    },
    {
     "name": "stdout",
     "output_type": "stream",
     "text": [
      "Train accuracy (9):  0.1875\n",
      "Loss (9):  0.73079276\n"
     ]
    },
    {
     "name": "stderr",
     "output_type": "stream",
     "text": [
      "100%|██████████| 3/3 [00:21<00:00,  7.24s/it]\n"
     ]
    },
    {
     "name": "stdout",
     "output_type": "stream",
     "text": [
      "Train accuracy (10):  0.1875\n",
      "Loss (10):  0.7222311\n"
     ]
    },
    {
     "name": "stderr",
     "output_type": "stream",
     "text": [
      "100%|██████████| 3/3 [00:21<00:00,  7.10s/it]\n"
     ]
    },
    {
     "name": "stdout",
     "output_type": "stream",
     "text": [
      "Train accuracy (11):  0.1875\n",
      "Loss (11):  0.7135673\n"
     ]
    },
    {
     "name": "stderr",
     "output_type": "stream",
     "text": [
      "100%|██████████| 3/3 [00:22<00:00,  7.34s/it]\n"
     ]
    },
    {
     "name": "stdout",
     "output_type": "stream",
     "text": [
      "Train accuracy (12):  0.1875\n",
      "Loss (12):  0.7048153\n"
     ]
    },
    {
     "name": "stderr",
     "output_type": "stream",
     "text": [
      "100%|██████████| 3/3 [00:21<00:00,  7.19s/it]\n"
     ]
    },
    {
     "name": "stdout",
     "output_type": "stream",
     "text": [
      "Train accuracy (13):  0.34375\n",
      "Loss (13):  0.69586664\n"
     ]
    },
    {
     "name": "stderr",
     "output_type": "stream",
     "text": [
      "100%|██████████| 3/3 [00:21<00:00,  7.27s/it]\n"
     ]
    },
    {
     "name": "stdout",
     "output_type": "stream",
     "text": [
      "Train accuracy (14):  0.8125\n",
      "Loss (14):  0.686739\n"
     ]
    },
    {
     "name": "stderr",
     "output_type": "stream",
     "text": [
      "100%|██████████| 3/3 [00:21<00:00,  7.29s/it]\n"
     ]
    },
    {
     "name": "stdout",
     "output_type": "stream",
     "text": [
      "Train accuracy (15):  0.8125\n",
      "Loss (15):  0.6775346\n"
     ]
    },
    {
     "name": "stderr",
     "output_type": "stream",
     "text": [
      "100%|██████████| 3/3 [00:22<00:00,  7.43s/it]\n"
     ]
    },
    {
     "name": "stdout",
     "output_type": "stream",
     "text": [
      "Train accuracy (16):  0.8125\n",
      "Loss (16):  0.6682554\n"
     ]
    },
    {
     "name": "stderr",
     "output_type": "stream",
     "text": [
      "100%|██████████| 3/3 [00:21<00:00,  7.17s/it]\n"
     ]
    },
    {
     "name": "stdout",
     "output_type": "stream",
     "text": [
      "Train accuracy (17):  0.8125\n",
      "Loss (17):  0.65889305\n"
     ]
    },
    {
     "name": "stderr",
     "output_type": "stream",
     "text": [
      "100%|██████████| 3/3 [00:21<00:00,  7.32s/it]\n"
     ]
    },
    {
     "name": "stdout",
     "output_type": "stream",
     "text": [
      "Train accuracy (18):  0.8125\n",
      "Loss (18):  0.6494917\n"
     ]
    },
    {
     "name": "stderr",
     "output_type": "stream",
     "text": [
      "100%|██████████| 3/3 [00:21<00:00,  7.26s/it]\n"
     ]
    },
    {
     "name": "stdout",
     "output_type": "stream",
     "text": [
      "Train accuracy (19):  0.8125\n",
      "Loss (19):  0.64005774\n"
     ]
    },
    {
     "name": "stderr",
     "output_type": "stream",
     "text": [
      "100%|██████████| 3/3 [00:21<00:00,  7.26s/it]\n"
     ]
    },
    {
     "name": "stdout",
     "output_type": "stream",
     "text": [
      "Train accuracy (20):  0.8125\n",
      "Loss (20):  0.63062996\n"
     ]
    },
    {
     "name": "stderr",
     "output_type": "stream",
     "text": [
      "100%|██████████| 3/3 [00:21<00:00,  7.29s/it]\n"
     ]
    },
    {
     "name": "stdout",
     "output_type": "stream",
     "text": [
      "Train accuracy (21):  0.8125\n",
      "Loss (21):  0.62127405\n"
     ]
    },
    {
     "name": "stderr",
     "output_type": "stream",
     "text": [
      "100%|██████████| 3/3 [00:21<00:00,  7.28s/it]\n"
     ]
    },
    {
     "name": "stdout",
     "output_type": "stream",
     "text": [
      "Train accuracy (22):  0.8125\n",
      "Loss (22):  0.61200064\n"
     ]
    },
    {
     "name": "stderr",
     "output_type": "stream",
     "text": [
      "100%|██████████| 3/3 [00:21<00:00,  7.22s/it]\n"
     ]
    },
    {
     "name": "stdout",
     "output_type": "stream",
     "text": [
      "Train accuracy (23):  0.8125\n",
      "Loss (23):  0.6028462\n"
     ]
    },
    {
     "name": "stderr",
     "output_type": "stream",
     "text": [
      "100%|██████████| 3/3 [00:21<00:00,  7.27s/it]\n"
     ]
    },
    {
     "name": "stdout",
     "output_type": "stream",
     "text": [
      "Train accuracy (24):  0.8125\n",
      "Loss (24):  0.59385735\n"
     ]
    },
    {
     "name": "stderr",
     "output_type": "stream",
     "text": [
      "100%|██████████| 3/3 [00:21<00:00,  7.10s/it]\n"
     ]
    },
    {
     "name": "stdout",
     "output_type": "stream",
     "text": [
      "Train accuracy (25):  0.8125\n",
      "Loss (25):  0.5850766\n"
     ]
    },
    {
     "name": "stderr",
     "output_type": "stream",
     "text": [
      "100%|██████████| 3/3 [00:21<00:00,  7.25s/it]\n"
     ]
    },
    {
     "name": "stdout",
     "output_type": "stream",
     "text": [
      "Train accuracy (26):  0.8125\n",
      "Loss (26):  0.57653975\n"
     ]
    },
    {
     "name": "stderr",
     "output_type": "stream",
     "text": [
      "100%|██████████| 3/3 [00:21<00:00,  7.20s/it]\n"
     ]
    },
    {
     "name": "stdout",
     "output_type": "stream",
     "text": [
      "Train accuracy (27):  0.8125\n",
      "Loss (27):  0.56828\n"
     ]
    },
    {
     "name": "stderr",
     "output_type": "stream",
     "text": [
      "100%|██████████| 3/3 [00:21<00:00,  7.10s/it]\n"
     ]
    },
    {
     "name": "stdout",
     "output_type": "stream",
     "text": [
      "Train accuracy (28):  0.8125\n",
      "Loss (28):  0.5603387\n"
     ]
    },
    {
     "name": "stderr",
     "output_type": "stream",
     "text": [
      "100%|██████████| 3/3 [00:21<00:00,  7.29s/it]\n"
     ]
    },
    {
     "name": "stdout",
     "output_type": "stream",
     "text": [
      "Train accuracy (29):  0.8125\n",
      "Loss (29):  0.5527478\n"
     ]
    },
    {
     "name": "stderr",
     "output_type": "stream",
     "text": [
      "100%|██████████| 3/3 [00:21<00:00,  7.15s/it]\n"
     ]
    },
    {
     "name": "stdout",
     "output_type": "stream",
     "text": [
      "Train accuracy (30):  0.8125\n",
      "Loss (30):  0.545537\n"
     ]
    },
    {
     "name": "stderr",
     "output_type": "stream",
     "text": [
      "100%|██████████| 3/3 [00:22<00:00,  7.43s/it]\n"
     ]
    },
    {
     "name": "stdout",
     "output_type": "stream",
     "text": [
      "Train accuracy (31):  0.8125\n",
      "Loss (31):  0.5387296\n"
     ]
    },
    {
     "name": "stderr",
     "output_type": "stream",
     "text": [
      "100%|██████████| 3/3 [00:21<00:00,  7.22s/it]\n"
     ]
    },
    {
     "name": "stdout",
     "output_type": "stream",
     "text": [
      "Train accuracy (32):  0.8125\n",
      "Loss (32):  0.53234845\n"
     ]
    },
    {
     "name": "stderr",
     "output_type": "stream",
     "text": [
      "100%|██████████| 3/3 [00:22<00:00,  7.37s/it]\n"
     ]
    },
    {
     "name": "stdout",
     "output_type": "stream",
     "text": [
      "Train accuracy (33):  0.8125\n",
      "Loss (33):  0.52640957\n"
     ]
    },
    {
     "name": "stderr",
     "output_type": "stream",
     "text": [
      "100%|██████████| 3/3 [00:21<00:00,  7.24s/it]\n"
     ]
    },
    {
     "name": "stdout",
     "output_type": "stream",
     "text": [
      "Train accuracy (34):  0.8125\n",
      "Loss (34):  0.5209223\n"
     ]
    },
    {
     "name": "stderr",
     "output_type": "stream",
     "text": [
      "100%|██████████| 3/3 [00:22<00:00,  7.34s/it]\n"
     ]
    },
    {
     "name": "stdout",
     "output_type": "stream",
     "text": [
      "Train accuracy (35):  0.8125\n",
      "Loss (35):  0.5158904\n"
     ]
    },
    {
     "name": "stderr",
     "output_type": "stream",
     "text": [
      "100%|██████████| 3/3 [00:22<00:00,  7.35s/it]\n"
     ]
    },
    {
     "name": "stdout",
     "output_type": "stream",
     "text": [
      "Train accuracy (36):  0.8125\n",
      "Loss (36):  0.51131296\n"
     ]
    },
    {
     "name": "stderr",
     "output_type": "stream",
     "text": [
      "100%|██████████| 3/3 [00:21<00:00,  7.33s/it]\n"
     ]
    },
    {
     "name": "stdout",
     "output_type": "stream",
     "text": [
      "Train accuracy (37):  0.8125\n",
      "Loss (37):  0.50718313\n"
     ]
    },
    {
     "name": "stderr",
     "output_type": "stream",
     "text": [
      "100%|██████████| 3/3 [00:21<00:00,  7.25s/it]\n"
     ]
    },
    {
     "name": "stdout",
     "output_type": "stream",
     "text": [
      "Train accuracy (38):  0.8125\n",
      "Loss (38):  0.5034886\n"
     ]
    },
    {
     "name": "stderr",
     "output_type": "stream",
     "text": [
      "100%|██████████| 3/3 [00:21<00:00,  7.23s/it]\n"
     ]
    },
    {
     "name": "stdout",
     "output_type": "stream",
     "text": [
      "Train accuracy (39):  0.8125\n",
      "Loss (39):  0.5002119\n"
     ]
    },
    {
     "name": "stderr",
     "output_type": "stream",
     "text": [
      "100%|██████████| 3/3 [00:21<00:00,  7.17s/it]\n"
     ]
    },
    {
     "name": "stdout",
     "output_type": "stream",
     "text": [
      "Train accuracy (40):  0.8125\n",
      "Loss (40):  0.49733177\n"
     ]
    },
    {
     "name": "stderr",
     "output_type": "stream",
     "text": [
      "100%|██████████| 3/3 [00:21<00:00,  7.29s/it]\n"
     ]
    },
    {
     "name": "stdout",
     "output_type": "stream",
     "text": [
      "Train accuracy (41):  0.8125\n",
      "Loss (41):  0.49482313\n"
     ]
    },
    {
     "name": "stderr",
     "output_type": "stream",
     "text": [
      "100%|██████████| 3/3 [00:21<00:00,  7.24s/it]\n"
     ]
    },
    {
     "name": "stdout",
     "output_type": "stream",
     "text": [
      "Train accuracy (42):  0.8125\n",
      "Loss (42):  0.4926585\n"
     ]
    },
    {
     "name": "stderr",
     "output_type": "stream",
     "text": [
      "100%|██████████| 3/3 [00:22<00:00,  7.41s/it]\n"
     ]
    },
    {
     "name": "stdout",
     "output_type": "stream",
     "text": [
      "Train accuracy (43):  0.8125\n",
      "Loss (43):  0.4908085\n"
     ]
    },
    {
     "name": "stderr",
     "output_type": "stream",
     "text": [
      "100%|██████████| 3/3 [00:21<00:00,  7.18s/it]\n"
     ]
    },
    {
     "name": "stdout",
     "output_type": "stream",
     "text": [
      "Train accuracy (44):  0.8125\n",
      "Loss (44):  0.4892424\n"
     ]
    },
    {
     "name": "stderr",
     "output_type": "stream",
     "text": [
      "100%|██████████| 3/3 [00:21<00:00,  7.31s/it]\n"
     ]
    },
    {
     "name": "stdout",
     "output_type": "stream",
     "text": [
      "Train accuracy (45):  0.8125\n",
      "Loss (45):  0.4879295\n"
     ]
    },
    {
     "name": "stderr",
     "output_type": "stream",
     "text": [
      "100%|██████████| 3/3 [00:21<00:00,  7.28s/it]\n"
     ]
    },
    {
     "name": "stdout",
     "output_type": "stream",
     "text": [
      "Train accuracy (46):  0.8125\n",
      "Loss (46):  0.48683956\n"
     ]
    },
    {
     "name": "stderr",
     "output_type": "stream",
     "text": [
      "100%|██████████| 3/3 [00:22<00:00,  7.56s/it]\n"
     ]
    },
    {
     "name": "stdout",
     "output_type": "stream",
     "text": [
      "Train accuracy (47):  0.8125\n",
      "Loss (47):  0.48594347\n"
     ]
    },
    {
     "name": "stderr",
     "output_type": "stream",
     "text": [
      "100%|██████████| 3/3 [00:22<00:00,  7.35s/it]\n"
     ]
    },
    {
     "name": "stdout",
     "output_type": "stream",
     "text": [
      "Train accuracy (48):  0.8125\n",
      "Loss (48):  0.48521367\n"
     ]
    },
    {
     "name": "stderr",
     "output_type": "stream",
     "text": [
      "100%|██████████| 3/3 [00:22<00:00,  7.46s/it]\n"
     ]
    },
    {
     "name": "stdout",
     "output_type": "stream",
     "text": [
      "Train accuracy (49):  0.8125\n",
      "Loss (49):  0.48462477\n"
     ]
    },
    {
     "name": "stderr",
     "output_type": "stream",
     "text": [
      "100%|██████████| 3/3 [00:21<00:00,  7.26s/it]\n"
     ]
    },
    {
     "name": "stdout",
     "output_type": "stream",
     "text": [
      "Train accuracy (50):  0.8125\n",
      "Loss (50):  0.4841535\n"
     ]
    },
    {
     "name": "stderr",
     "output_type": "stream",
     "text": [
      "100%|██████████| 3/3 [00:21<00:00,  7.27s/it]\n"
     ]
    },
    {
     "name": "stdout",
     "output_type": "stream",
     "text": [
      "Train accuracy (51):  0.8125\n",
      "Loss (51):  0.48377907\n"
     ]
    },
    {
     "name": "stderr",
     "output_type": "stream",
     "text": [
      "100%|██████████| 3/3 [00:21<00:00,  7.11s/it]\n"
     ]
    },
    {
     "name": "stdout",
     "output_type": "stream",
     "text": [
      "Train accuracy (52):  0.8125\n",
      "Loss (52):  0.48348328\n"
     ]
    },
    {
     "name": "stderr",
     "output_type": "stream",
     "text": [
      "100%|██████████| 3/3 [00:21<00:00,  7.29s/it]\n"
     ]
    },
    {
     "name": "stdout",
     "output_type": "stream",
     "text": [
      "Train accuracy (53):  0.8125\n",
      "Loss (53):  0.4832503\n"
     ]
    },
    {
     "name": "stderr",
     "output_type": "stream",
     "text": [
      "100%|██████████| 3/3 [00:21<00:00,  7.21s/it]\n"
     ]
    },
    {
     "name": "stdout",
     "output_type": "stream",
     "text": [
      "Train accuracy (54):  0.8125\n",
      "Loss (54):  0.48306695\n"
     ]
    },
    {
     "name": "stderr",
     "output_type": "stream",
     "text": [
      "100%|██████████| 3/3 [00:21<00:00,  7.28s/it]\n"
     ]
    },
    {
     "name": "stdout",
     "output_type": "stream",
     "text": [
      "Train accuracy (55):  0.8125\n",
      "Loss (55):  0.482922\n"
     ]
    },
    {
     "name": "stderr",
     "output_type": "stream",
     "text": [
      "100%|██████████| 3/3 [00:21<00:00,  7.24s/it]\n"
     ]
    },
    {
     "name": "stdout",
     "output_type": "stream",
     "text": [
      "Train accuracy (56):  0.8125\n",
      "Loss (56):  0.48280665\n"
     ]
    },
    {
     "name": "stderr",
     "output_type": "stream",
     "text": [
      "100%|██████████| 3/3 [00:22<00:00,  7.36s/it]\n"
     ]
    },
    {
     "name": "stdout",
     "output_type": "stream",
     "text": [
      "Train accuracy (57):  0.8125\n",
      "Loss (57):  0.4827137\n"
     ]
    },
    {
     "name": "stderr",
     "output_type": "stream",
     "text": [
      "100%|██████████| 3/3 [00:21<00:00,  7.27s/it]\n"
     ]
    },
    {
     "name": "stdout",
     "output_type": "stream",
     "text": [
      "Train accuracy (58):  0.8125\n",
      "Loss (58):  0.48263767\n"
     ]
    },
    {
     "name": "stderr",
     "output_type": "stream",
     "text": [
      "100%|██████████| 3/3 [00:22<00:00,  7.42s/it]\n"
     ]
    },
    {
     "name": "stdout",
     "output_type": "stream",
     "text": [
      "Train accuracy (59):  0.8125\n",
      "Loss (59):  0.48257455\n"
     ]
    },
    {
     "name": "stderr",
     "output_type": "stream",
     "text": [
      "100%|██████████| 3/3 [00:21<00:00,  7.31s/it]\n"
     ]
    },
    {
     "name": "stdout",
     "output_type": "stream",
     "text": [
      "Train accuracy (60):  0.8125\n",
      "Loss (60):  0.48252115\n"
     ]
    },
    {
     "name": "stderr",
     "output_type": "stream",
     "text": [
      "100%|██████████| 3/3 [00:22<00:00,  7.47s/it]\n"
     ]
    },
    {
     "name": "stdout",
     "output_type": "stream",
     "text": [
      "Train accuracy (61):  0.8125\n",
      "Loss (61):  0.4824752\n"
     ]
    },
    {
     "name": "stderr",
     "output_type": "stream",
     "text": [
      "100%|██████████| 3/3 [00:21<00:00,  7.32s/it]\n"
     ]
    },
    {
     "name": "stdout",
     "output_type": "stream",
     "text": [
      "Train accuracy (62):  0.8125\n",
      "Loss (62):  0.4824351\n"
     ]
    },
    {
     "name": "stderr",
     "output_type": "stream",
     "text": [
      "100%|██████████| 3/3 [00:22<00:00,  7.44s/it]\n"
     ]
    },
    {
     "name": "stdout",
     "output_type": "stream",
     "text": [
      "Train accuracy (63):  0.8125\n",
      "Loss (63):  0.4823996\n"
     ]
    },
    {
     "name": "stderr",
     "output_type": "stream",
     "text": [
      "100%|██████████| 3/3 [00:21<00:00,  7.30s/it]\n"
     ]
    },
    {
     "name": "stdout",
     "output_type": "stream",
     "text": [
      "Train accuracy (64):  0.8125\n",
      "Loss (64):  0.4823679\n"
     ]
    },
    {
     "name": "stderr",
     "output_type": "stream",
     "text": [
      "100%|██████████| 3/3 [00:21<00:00,  7.33s/it]\n"
     ]
    },
    {
     "name": "stdout",
     "output_type": "stream",
     "text": [
      "Train accuracy (65):  0.8125\n",
      "Loss (65):  0.48233917\n"
     ]
    },
    {
     "name": "stderr",
     "output_type": "stream",
     "text": [
      "100%|██████████| 3/3 [00:21<00:00,  7.23s/it]\n"
     ]
    },
    {
     "name": "stdout",
     "output_type": "stream",
     "text": [
      "Train accuracy (66):  0.8125\n",
      "Loss (66):  0.48231292\n"
     ]
    },
    {
     "name": "stderr",
     "output_type": "stream",
     "text": [
      "100%|██████████| 3/3 [00:21<00:00,  7.31s/it]\n"
     ]
    },
    {
     "name": "stdout",
     "output_type": "stream",
     "text": [
      "Train accuracy (67):  0.8125\n",
      "Loss (67):  0.48228884\n"
     ]
    },
    {
     "name": "stderr",
     "output_type": "stream",
     "text": [
      "100%|██████████| 3/3 [00:21<00:00,  7.25s/it]\n"
     ]
    },
    {
     "name": "stdout",
     "output_type": "stream",
     "text": [
      "Train accuracy (68):  0.8125\n",
      "Loss (68):  0.48226646\n"
     ]
    },
    {
     "name": "stderr",
     "output_type": "stream",
     "text": [
      "100%|██████████| 3/3 [00:21<00:00,  7.24s/it]\n"
     ]
    },
    {
     "name": "stdout",
     "output_type": "stream",
     "text": [
      "Train accuracy (69):  0.8125\n",
      "Loss (69):  0.48224568\n"
     ]
    },
    {
     "name": "stderr",
     "output_type": "stream",
     "text": [
      "100%|██████████| 3/3 [00:21<00:00,  7.17s/it]\n"
     ]
    },
    {
     "name": "stdout",
     "output_type": "stream",
     "text": [
      "Train accuracy (70):  0.8125\n",
      "Loss (70):  0.48222616\n"
     ]
    },
    {
     "name": "stderr",
     "output_type": "stream",
     "text": [
      "100%|██████████| 3/3 [00:22<00:00,  7.39s/it]\n"
     ]
    },
    {
     "name": "stdout",
     "output_type": "stream",
     "text": [
      "Train accuracy (71):  0.8125\n",
      "Loss (71):  0.48220778\n"
     ]
    },
    {
     "name": "stderr",
     "output_type": "stream",
     "text": [
      "100%|██████████| 3/3 [00:22<00:00,  7.34s/it]\n"
     ]
    },
    {
     "name": "stdout",
     "output_type": "stream",
     "text": [
      "Train accuracy (72):  0.8125\n",
      "Loss (72):  0.48219046\n"
     ]
    },
    {
     "name": "stderr",
     "output_type": "stream",
     "text": [
      "100%|██████████| 3/3 [00:21<00:00,  7.23s/it]\n"
     ]
    },
    {
     "name": "stdout",
     "output_type": "stream",
     "text": [
      "Train accuracy (73):  0.8125\n",
      "Loss (73):  0.48217392\n"
     ]
    },
    {
     "name": "stderr",
     "output_type": "stream",
     "text": [
      "100%|██████████| 3/3 [00:22<00:00,  7.40s/it]\n"
     ]
    },
    {
     "name": "stdout",
     "output_type": "stream",
     "text": [
      "Train accuracy (74):  0.8125\n",
      "Loss (74):  0.48215827\n"
     ]
    },
    {
     "name": "stderr",
     "output_type": "stream",
     "text": [
      "100%|██████████| 3/3 [00:21<00:00,  7.20s/it]\n"
     ]
    },
    {
     "name": "stdout",
     "output_type": "stream",
     "text": [
      "Train accuracy (75):  0.8125\n",
      "Loss (75):  0.48214325\n"
     ]
    },
    {
     "name": "stderr",
     "output_type": "stream",
     "text": [
      "100%|██████████| 3/3 [00:22<00:00,  7.41s/it]\n"
     ]
    },
    {
     "name": "stdout",
     "output_type": "stream",
     "text": [
      "Train accuracy (76):  0.8125\n",
      "Loss (76):  0.48212886\n"
     ]
    },
    {
     "name": "stderr",
     "output_type": "stream",
     "text": [
      "100%|██████████| 3/3 [00:21<00:00,  7.26s/it]\n"
     ]
    },
    {
     "name": "stdout",
     "output_type": "stream",
     "text": [
      "Train accuracy (77):  0.8125\n",
      "Loss (77):  0.48211503\n"
     ]
    },
    {
     "name": "stderr",
     "output_type": "stream",
     "text": [
      "100%|██████████| 3/3 [00:21<00:00,  7.26s/it]\n"
     ]
    },
    {
     "name": "stdout",
     "output_type": "stream",
     "text": [
      "Train accuracy (78):  0.8125\n",
      "Loss (78):  0.4821018\n"
     ]
    },
    {
     "name": "stderr",
     "output_type": "stream",
     "text": [
      "100%|██████████| 3/3 [00:22<00:00,  7.34s/it]\n"
     ]
    },
    {
     "name": "stdout",
     "output_type": "stream",
     "text": [
      "Train accuracy (79):  0.8125\n",
      "Loss (79):  0.48208895\n"
     ]
    },
    {
     "name": "stderr",
     "output_type": "stream",
     "text": [
      "100%|██████████| 3/3 [00:22<00:00,  7.59s/it]\n"
     ]
    },
    {
     "name": "stdout",
     "output_type": "stream",
     "text": [
      "Train accuracy (80):  0.8125\n",
      "Loss (80):  0.48207656\n"
     ]
    },
    {
     "name": "stderr",
     "output_type": "stream",
     "text": [
      "100%|██████████| 3/3 [00:21<00:00,  7.27s/it]\n"
     ]
    },
    {
     "name": "stdout",
     "output_type": "stream",
     "text": [
      "Train accuracy (81):  0.8125\n",
      "Loss (81):  0.48206463\n"
     ]
    },
    {
     "name": "stderr",
     "output_type": "stream",
     "text": [
      "100%|██████████| 3/3 [00:22<00:00,  7.54s/it]\n"
     ]
    },
    {
     "name": "stdout",
     "output_type": "stream",
     "text": [
      "Train accuracy (82):  0.8125\n",
      "Loss (82):  0.48205304\n"
     ]
    },
    {
     "name": "stderr",
     "output_type": "stream",
     "text": [
      "100%|██████████| 3/3 [00:21<00:00,  7.24s/it]\n"
     ]
    },
    {
     "name": "stdout",
     "output_type": "stream",
     "text": [
      "Train accuracy (83):  0.8125\n",
      "Loss (83):  0.48204175\n"
     ]
    },
    {
     "name": "stderr",
     "output_type": "stream",
     "text": [
      "100%|██████████| 3/3 [00:22<00:00,  7.54s/it]\n"
     ]
    },
    {
     "name": "stdout",
     "output_type": "stream",
     "text": [
      "Train accuracy (84):  0.8125\n",
      "Loss (84):  0.48203084\n"
     ]
    },
    {
     "name": "stderr",
     "output_type": "stream",
     "text": [
      "100%|██████████| 3/3 [00:21<00:00,  7.29s/it]\n"
     ]
    },
    {
     "name": "stdout",
     "output_type": "stream",
     "text": [
      "Train accuracy (85):  0.8125\n",
      "Loss (85):  0.48202014\n"
     ]
    },
    {
     "name": "stderr",
     "output_type": "stream",
     "text": [
      "100%|██████████| 3/3 [00:22<00:00,  7.41s/it]\n"
     ]
    },
    {
     "name": "stdout",
     "output_type": "stream",
     "text": [
      "Train accuracy (86):  0.8125\n",
      "Loss (86):  0.4820098\n"
     ]
    },
    {
     "name": "stderr",
     "output_type": "stream",
     "text": [
      "100%|██████████| 3/3 [00:21<00:00,  7.28s/it]\n"
     ]
    },
    {
     "name": "stdout",
     "output_type": "stream",
     "text": [
      "Train accuracy (87):  0.8125\n",
      "Loss (87):  0.48199973\n"
     ]
    },
    {
     "name": "stderr",
     "output_type": "stream",
     "text": [
      "100%|██████████| 3/3 [00:22<00:00,  7.51s/it]\n"
     ]
    },
    {
     "name": "stdout",
     "output_type": "stream",
     "text": [
      "Train accuracy (88):  0.8125\n",
      "Loss (88):  0.48198986\n"
     ]
    },
    {
     "name": "stderr",
     "output_type": "stream",
     "text": [
      "100%|██████████| 3/3 [00:21<00:00,  7.29s/it]\n"
     ]
    },
    {
     "name": "stdout",
     "output_type": "stream",
     "text": [
      "Train accuracy (89):  0.8125\n",
      "Loss (89):  0.48198023\n"
     ]
    },
    {
     "name": "stderr",
     "output_type": "stream",
     "text": [
      " 67%|██████▋   | 2/3 [00:20<00:10, 10.32s/it]\n"
     ]
    },
    {
     "ename": "KeyboardInterrupt",
     "evalue": "",
     "output_type": "error",
     "traceback": [
      "\u001b[0;31m---------------------------------------------------------------------------\u001b[0m",
      "\u001b[0;31mKeyboardInterrupt\u001b[0m                         Traceback (most recent call last)",
      "Cell \u001b[0;32mIn[17], line 1\u001b[0m\n\u001b[0;32m----> 1\u001b[0m \u001b[43mtrain\u001b[49m\u001b[43m(\u001b[49m\u001b[43mmodel_hybrid\u001b[49m\u001b[43m,\u001b[49m\u001b[43m \u001b[49m\u001b[43mtrain_sequences\u001b[49m\u001b[43m,\u001b[49m\u001b[43m \u001b[49m\u001b[43mtest_sequences\u001b[49m\u001b[43m)\u001b[49m\n",
      "Cell \u001b[0;32mIn[14], line 24\u001b[0m, in \u001b[0;36mtrain\u001b[0;34m(input_model, train_x, test_x)\u001b[0m\n\u001b[1;32m     21\u001b[0m loss \u001b[38;5;241m=\u001b[39m \u001b[38;5;241m-\u001b[39mlogpy\u001b[38;5;241m.\u001b[39mmean()\n\u001b[1;32m     22\u001b[0m loss_acc \u001b[38;5;241m+\u001b[39m\u001b[38;5;241m=\u001b[39m loss \n\u001b[0;32m---> 24\u001b[0m \u001b[43mloss\u001b[49m\u001b[38;5;241;43m.\u001b[39;49m\u001b[43mbackward\u001b[49m\u001b[43m(\u001b[49m\u001b[43m)\u001b[49m\n\u001b[1;32m     25\u001b[0m optimizer\u001b[38;5;241m.\u001b[39mstep()\n\u001b[1;32m     27\u001b[0m train_acc \u001b[38;5;241m+\u001b[39m\u001b[38;5;241m=\u001b[39m torch\u001b[38;5;241m.\u001b[39mmean(\n\u001b[1;32m     28\u001b[0m     torch\u001b[38;5;241m.\u001b[39meq(torch\u001b[38;5;241m.\u001b[39margmax(output, dim\u001b[38;5;241m=\u001b[39m\u001b[38;5;241m1\u001b[39m), torch\u001b[38;5;241m.\u001b[39mtensor(batch_label))\u001b[38;5;241m.\u001b[39mfloat()\n\u001b[1;32m     29\u001b[0m )\n",
      "File \u001b[0;32m/opt/conda/lib/python3.10/site-packages/torch/_tensor.py:488\u001b[0m, in \u001b[0;36mTensor.backward\u001b[0;34m(self, gradient, retain_graph, create_graph, inputs)\u001b[0m\n\u001b[1;32m    478\u001b[0m \u001b[38;5;28;01mif\u001b[39;00m has_torch_function_unary(\u001b[38;5;28mself\u001b[39m):\n\u001b[1;32m    479\u001b[0m     \u001b[38;5;28;01mreturn\u001b[39;00m handle_torch_function(\n\u001b[1;32m    480\u001b[0m         Tensor\u001b[38;5;241m.\u001b[39mbackward,\n\u001b[1;32m    481\u001b[0m         (\u001b[38;5;28mself\u001b[39m,),\n\u001b[0;32m   (...)\u001b[0m\n\u001b[1;32m    486\u001b[0m         inputs\u001b[38;5;241m=\u001b[39minputs,\n\u001b[1;32m    487\u001b[0m     )\n\u001b[0;32m--> 488\u001b[0m \u001b[43mtorch\u001b[49m\u001b[38;5;241;43m.\u001b[39;49m\u001b[43mautograd\u001b[49m\u001b[38;5;241;43m.\u001b[39;49m\u001b[43mbackward\u001b[49m\u001b[43m(\u001b[49m\n\u001b[1;32m    489\u001b[0m \u001b[43m    \u001b[49m\u001b[38;5;28;43mself\u001b[39;49m\u001b[43m,\u001b[49m\u001b[43m \u001b[49m\u001b[43mgradient\u001b[49m\u001b[43m,\u001b[49m\u001b[43m \u001b[49m\u001b[43mretain_graph\u001b[49m\u001b[43m,\u001b[49m\u001b[43m \u001b[49m\u001b[43mcreate_graph\u001b[49m\u001b[43m,\u001b[49m\u001b[43m \u001b[49m\u001b[43minputs\u001b[49m\u001b[38;5;241;43m=\u001b[39;49m\u001b[43minputs\u001b[49m\n\u001b[1;32m    490\u001b[0m \u001b[43m\u001b[49m\u001b[43m)\u001b[49m\n",
      "File \u001b[0;32m/opt/conda/lib/python3.10/site-packages/torch/autograd/__init__.py:197\u001b[0m, in \u001b[0;36mbackward\u001b[0;34m(tensors, grad_tensors, retain_graph, create_graph, grad_variables, inputs)\u001b[0m\n\u001b[1;32m    192\u001b[0m     retain_graph \u001b[38;5;241m=\u001b[39m create_graph\n\u001b[1;32m    194\u001b[0m \u001b[38;5;66;03m# The reason we repeat same the comment below is that\u001b[39;00m\n\u001b[1;32m    195\u001b[0m \u001b[38;5;66;03m# some Python versions print out the first line of a multi-line function\u001b[39;00m\n\u001b[1;32m    196\u001b[0m \u001b[38;5;66;03m# calls in the traceback and some print out the last line\u001b[39;00m\n\u001b[0;32m--> 197\u001b[0m \u001b[43mVariable\u001b[49m\u001b[38;5;241;43m.\u001b[39;49m\u001b[43m_execution_engine\u001b[49m\u001b[38;5;241;43m.\u001b[39;49m\u001b[43mrun_backward\u001b[49m\u001b[43m(\u001b[49m\u001b[43m  \u001b[49m\u001b[38;5;66;43;03m# Calls into the C++ engine to run the backward pass\u001b[39;49;00m\n\u001b[1;32m    198\u001b[0m \u001b[43m    \u001b[49m\u001b[43mtensors\u001b[49m\u001b[43m,\u001b[49m\u001b[43m \u001b[49m\u001b[43mgrad_tensors_\u001b[49m\u001b[43m,\u001b[49m\u001b[43m \u001b[49m\u001b[43mretain_graph\u001b[49m\u001b[43m,\u001b[49m\u001b[43m \u001b[49m\u001b[43mcreate_graph\u001b[49m\u001b[43m,\u001b[49m\u001b[43m \u001b[49m\u001b[43minputs\u001b[49m\u001b[43m,\u001b[49m\n\u001b[1;32m    199\u001b[0m \u001b[43m    \u001b[49m\u001b[43mallow_unreachable\u001b[49m\u001b[38;5;241;43m=\u001b[39;49m\u001b[38;5;28;43;01mTrue\u001b[39;49;00m\u001b[43m,\u001b[49m\u001b[43m \u001b[49m\u001b[43maccumulate_grad\u001b[49m\u001b[38;5;241;43m=\u001b[39;49m\u001b[38;5;28;43;01mTrue\u001b[39;49;00m\u001b[43m)\u001b[49m\n",
      "File \u001b[0;32m/opt/conda/lib/python3.10/site-packages/torch/autograd/function.py:267\u001b[0m, in \u001b[0;36mBackwardCFunction.apply\u001b[0;34m(self, *args)\u001b[0m\n\u001b[1;32m    263\u001b[0m     \u001b[38;5;28;01mraise\u001b[39;00m \u001b[38;5;167;01mRuntimeError\u001b[39;00m(\u001b[38;5;124m\"\u001b[39m\u001b[38;5;124mImplementing both \u001b[39m\u001b[38;5;124m'\u001b[39m\u001b[38;5;124mbackward\u001b[39m\u001b[38;5;124m'\u001b[39m\u001b[38;5;124m and \u001b[39m\u001b[38;5;124m'\u001b[39m\u001b[38;5;124mvjp\u001b[39m\u001b[38;5;124m'\u001b[39m\u001b[38;5;124m for a custom \u001b[39m\u001b[38;5;124m\"\u001b[39m\n\u001b[1;32m    264\u001b[0m                        \u001b[38;5;124m\"\u001b[39m\u001b[38;5;124mFunction is not allowed. You should only implement one \u001b[39m\u001b[38;5;124m\"\u001b[39m\n\u001b[1;32m    265\u001b[0m                        \u001b[38;5;124m\"\u001b[39m\u001b[38;5;124mof them.\u001b[39m\u001b[38;5;124m\"\u001b[39m)\n\u001b[1;32m    266\u001b[0m user_fn \u001b[38;5;241m=\u001b[39m vjp_fn \u001b[38;5;28;01mif\u001b[39;00m vjp_fn \u001b[38;5;129;01mis\u001b[39;00m \u001b[38;5;129;01mnot\u001b[39;00m Function\u001b[38;5;241m.\u001b[39mvjp \u001b[38;5;28;01melse\u001b[39;00m backward_fn\n\u001b[0;32m--> 267\u001b[0m \u001b[38;5;28;01mreturn\u001b[39;00m \u001b[43muser_fn\u001b[49m\u001b[43m(\u001b[49m\u001b[38;5;28;43mself\u001b[39;49m\u001b[43m,\u001b[49m\u001b[43m \u001b[49m\u001b[38;5;241;43m*\u001b[39;49m\u001b[43margs\u001b[49m\u001b[43m)\u001b[49m\n",
      "File \u001b[0;32m/opt/conda/lib/python3.10/site-packages/pennylane/interfaces/torch.py:178\u001b[0m, in \u001b[0;36mExecuteTapes.backward\u001b[0;34m(ctx, *dy)\u001b[0m\n\u001b[1;32m    169\u001b[0m         \u001b[38;5;28;01mwith\u001b[39;00m qml\u001b[38;5;241m.\u001b[39mtape\u001b[38;5;241m.\u001b[39mUnwrap(\u001b[38;5;241m*\u001b[39mctx\u001b[38;5;241m.\u001b[39mtapes):\n\u001b[1;32m    170\u001b[0m             vjp_tapes, processing_fn \u001b[38;5;241m=\u001b[39m qml\u001b[38;5;241m.\u001b[39mgradients\u001b[38;5;241m.\u001b[39mbatch_vjp(\n\u001b[1;32m    171\u001b[0m                 ctx\u001b[38;5;241m.\u001b[39mtapes,\n\u001b[1;32m    172\u001b[0m                 dy,\n\u001b[0;32m   (...)\u001b[0m\n\u001b[1;32m    175\u001b[0m                 gradient_kwargs\u001b[38;5;241m=\u001b[39mctx\u001b[38;5;241m.\u001b[39mgradient_kwargs,\n\u001b[1;32m    176\u001b[0m             )\n\u001b[0;32m--> 178\u001b[0m             vjps \u001b[38;5;241m=\u001b[39m processing_fn(\u001b[43mctx\u001b[49m\u001b[38;5;241;43m.\u001b[39;49m\u001b[43mexecute_fn\u001b[49m\u001b[43m(\u001b[49m\u001b[43mvjp_tapes\u001b[49m\u001b[43m)\u001b[49m[\u001b[38;5;241m0\u001b[39m])\n\u001b[1;32m    180\u001b[0m \u001b[38;5;28;01melse\u001b[39;00m:\n\u001b[1;32m    181\u001b[0m     \u001b[38;5;66;03m# Gradient function is not a gradient transform\u001b[39;00m\n\u001b[1;32m    182\u001b[0m     \u001b[38;5;66;03m# (e.g., it might be a device method).\u001b[39;00m\n\u001b[0;32m   (...)\u001b[0m\n\u001b[1;32m    187\u001b[0m     \u001b[38;5;66;03m#\u001b[39;00m\n\u001b[1;32m    188\u001b[0m     \u001b[38;5;66;03m# so we cannot support higher-order derivatives.\u001b[39;00m\n\u001b[1;32m    190\u001b[0m     \u001b[38;5;28;01mwith\u001b[39;00m qml\u001b[38;5;241m.\u001b[39mtape\u001b[38;5;241m.\u001b[39mUnwrap(\u001b[38;5;241m*\u001b[39mctx\u001b[38;5;241m.\u001b[39mtapes):\n",
      "File \u001b[0;32m/opt/conda/lib/python3.10/site-packages/pennylane/interfaces/execution.py:206\u001b[0m, in \u001b[0;36mcache_execute.<locals>.wrapper\u001b[0;34m(tapes, **kwargs)\u001b[0m\n\u001b[1;32m    202\u001b[0m         \u001b[38;5;28;01mreturn\u001b[39;00m (res, []) \u001b[38;5;28;01mif\u001b[39;00m return_tuple \u001b[38;5;28;01melse\u001b[39;00m res\n\u001b[1;32m    204\u001b[0m \u001b[38;5;28;01melse\u001b[39;00m:\n\u001b[1;32m    205\u001b[0m     \u001b[38;5;66;03m# execute all unique tapes that do not exist in the cache\u001b[39;00m\n\u001b[0;32m--> 206\u001b[0m     res \u001b[38;5;241m=\u001b[39m \u001b[43mfn\u001b[49m\u001b[43m(\u001b[49m\u001b[43mexecution_tapes\u001b[49m\u001b[38;5;241;43m.\u001b[39;49m\u001b[43mvalues\u001b[49m\u001b[43m(\u001b[49m\u001b[43m)\u001b[49m\u001b[43m,\u001b[49m\u001b[43m \u001b[49m\u001b[38;5;241;43m*\u001b[39;49m\u001b[38;5;241;43m*\u001b[39;49m\u001b[43mkwargs\u001b[49m\u001b[43m)\u001b[49m\n\u001b[1;32m    208\u001b[0m final_res \u001b[38;5;241m=\u001b[39m []\n\u001b[1;32m    210\u001b[0m \u001b[38;5;28;01mfor\u001b[39;00m i, tape \u001b[38;5;129;01min\u001b[39;00m \u001b[38;5;28menumerate\u001b[39m(tapes):\n",
      "File \u001b[0;32m/opt/conda/lib/python3.10/site-packages/pennylane/interfaces/execution.py:131\u001b[0m, in \u001b[0;36mcache_execute.<locals>.fn\u001b[0;34m(tapes, **kwargs)\u001b[0m\n\u001b[1;32m    129\u001b[0m \u001b[38;5;28;01mdef\u001b[39;00m \u001b[38;5;21mfn\u001b[39m(tapes: Sequence[QuantumTape], \u001b[38;5;241m*\u001b[39m\u001b[38;5;241m*\u001b[39mkwargs):  \u001b[38;5;66;03m# pylint: disable=function-redefined\u001b[39;00m\n\u001b[1;32m    130\u001b[0m     tapes \u001b[38;5;241m=\u001b[39m [expand_fn(tape) \u001b[38;5;28;01mfor\u001b[39;00m tape \u001b[38;5;129;01min\u001b[39;00m tapes]\n\u001b[0;32m--> 131\u001b[0m     \u001b[38;5;28;01mreturn\u001b[39;00m \u001b[43moriginal_fn\u001b[49m\u001b[43m(\u001b[49m\u001b[43mtapes\u001b[49m\u001b[43m,\u001b[49m\u001b[43m \u001b[49m\u001b[38;5;241;43m*\u001b[39;49m\u001b[38;5;241;43m*\u001b[39;49m\u001b[43mkwargs\u001b[49m\u001b[43m)\u001b[49m\n",
      "File \u001b[0;32m/opt/conda/lib/python3.10/contextlib.py:79\u001b[0m, in \u001b[0;36mContextDecorator.__call__.<locals>.inner\u001b[0;34m(*args, **kwds)\u001b[0m\n\u001b[1;32m     76\u001b[0m \u001b[38;5;129m@wraps\u001b[39m(func)\n\u001b[1;32m     77\u001b[0m \u001b[38;5;28;01mdef\u001b[39;00m \u001b[38;5;21minner\u001b[39m(\u001b[38;5;241m*\u001b[39margs, \u001b[38;5;241m*\u001b[39m\u001b[38;5;241m*\u001b[39mkwds):\n\u001b[1;32m     78\u001b[0m     \u001b[38;5;28;01mwith\u001b[39;00m \u001b[38;5;28mself\u001b[39m\u001b[38;5;241m.\u001b[39m_recreate_cm():\n\u001b[0;32m---> 79\u001b[0m         \u001b[38;5;28;01mreturn\u001b[39;00m \u001b[43mfunc\u001b[49m\u001b[43m(\u001b[49m\u001b[38;5;241;43m*\u001b[39;49m\u001b[43margs\u001b[49m\u001b[43m,\u001b[49m\u001b[43m \u001b[49m\u001b[38;5;241;43m*\u001b[39;49m\u001b[38;5;241;43m*\u001b[39;49m\u001b[43mkwds\u001b[49m\u001b[43m)\u001b[49m\n",
      "File \u001b[0;32m/opt/conda/lib/python3.10/site-packages/pennylane/_qubit_device.py:624\u001b[0m, in \u001b[0;36mQubitDevice.batch_execute\u001b[0;34m(self, circuits)\u001b[0m\n\u001b[1;32m    621\u001b[0m     \u001b[38;5;28mself\u001b[39m\u001b[38;5;241m.\u001b[39mreset()\n\u001b[1;32m    623\u001b[0m     \u001b[38;5;66;03m# TODO: Insert control on value here\u001b[39;00m\n\u001b[0;32m--> 624\u001b[0m     res \u001b[38;5;241m=\u001b[39m \u001b[38;5;28;43mself\u001b[39;49m\u001b[38;5;241;43m.\u001b[39;49m\u001b[43mexecute\u001b[49m\u001b[43m(\u001b[49m\u001b[43mcircuit\u001b[49m\u001b[43m)\u001b[49m\n\u001b[1;32m    625\u001b[0m     results\u001b[38;5;241m.\u001b[39mappend(res)\n\u001b[1;32m    627\u001b[0m \u001b[38;5;28;01mif\u001b[39;00m \u001b[38;5;28mself\u001b[39m\u001b[38;5;241m.\u001b[39mtracker\u001b[38;5;241m.\u001b[39mactive:\n",
      "File \u001b[0;32m/opt/conda/lib/python3.10/site-packages/pennylane/_qubit_device.py:390\u001b[0m, in \u001b[0;36mQubitDevice.execute\u001b[0;34m(self, circuit, **kwargs)\u001b[0m\n\u001b[1;32m    388\u001b[0m     results \u001b[38;5;241m=\u001b[39m \u001b[38;5;28mself\u001b[39m\u001b[38;5;241m.\u001b[39m_collect_shotvector_results(circuit, counts_exist)\n\u001b[1;32m    389\u001b[0m \u001b[38;5;28;01melse\u001b[39;00m:\n\u001b[0;32m--> 390\u001b[0m     results \u001b[38;5;241m=\u001b[39m \u001b[38;5;28;43mself\u001b[39;49m\u001b[38;5;241;43m.\u001b[39;49m\u001b[43mstatistics\u001b[49m\u001b[43m(\u001b[49m\u001b[43mcircuit\u001b[49m\u001b[38;5;241;43m.\u001b[39;49m\u001b[43mobservables\u001b[49m\u001b[43m,\u001b[49m\u001b[43m \u001b[49m\u001b[43mcircuit\u001b[49m\u001b[38;5;241;43m=\u001b[39;49m\u001b[43mcircuit\u001b[49m\u001b[43m)\u001b[49m\n\u001b[1;32m    392\u001b[0m \u001b[38;5;28;01mif\u001b[39;00m \u001b[38;5;129;01mnot\u001b[39;00m circuit\u001b[38;5;241m.\u001b[39mis_sampled:\n\u001b[1;32m    394\u001b[0m     \u001b[38;5;28;01mif\u001b[39;00m \u001b[38;5;28mlen\u001b[39m(circuit\u001b[38;5;241m.\u001b[39mmeasurements) \u001b[38;5;241m==\u001b[39m \u001b[38;5;241m1\u001b[39m:\n",
      "File \u001b[0;32m/opt/conda/lib/python3.10/site-packages/pennylane_lightning_gpu/lightning_gpu.py:194\u001b[0m, in \u001b[0;36mLightningGPU.statistics\u001b[0;34m(self, observables, shot_range, bin_size, circuit)\u001b[0m\n\u001b[1;32m    192\u001b[0m \u001b[38;5;28;01mif\u001b[39;00m \u001b[38;5;28mself\u001b[39m\u001b[38;5;241m.\u001b[39m_sync:\n\u001b[1;32m    193\u001b[0m     \u001b[38;5;28mself\u001b[39m\u001b[38;5;241m.\u001b[39msyncD2H()\n\u001b[0;32m--> 194\u001b[0m \u001b[38;5;28;01mreturn\u001b[39;00m \u001b[38;5;28;43msuper\u001b[39;49m\u001b[43m(\u001b[49m\u001b[43m)\u001b[49m\u001b[38;5;241;43m.\u001b[39;49m\u001b[43mstatistics\u001b[49m\u001b[43m(\u001b[49m\u001b[43mobservables\u001b[49m\u001b[43m,\u001b[49m\u001b[43m \u001b[49m\u001b[43mshot_range\u001b[49m\u001b[43m,\u001b[49m\u001b[43m \u001b[49m\u001b[43mbin_size\u001b[49m\u001b[43m,\u001b[49m\u001b[43m \u001b[49m\u001b[43mcircuit\u001b[49m\u001b[43m)\u001b[49m\n",
      "File \u001b[0;32m/opt/conda/lib/python3.10/site-packages/pennylane/_qubit_device.py:743\u001b[0m, in \u001b[0;36mQubitDevice.statistics\u001b[0;34m(self, observables, shot_range, bin_size, circuit)\u001b[0m\n\u001b[1;32m    739\u001b[0m \u001b[38;5;28;01mfor\u001b[39;00m obs \u001b[38;5;129;01min\u001b[39;00m observables:\n\u001b[1;32m    740\u001b[0m     \u001b[38;5;66;03m# Pass instances directly\u001b[39;00m\n\u001b[1;32m    741\u001b[0m     \u001b[38;5;28;01mif\u001b[39;00m obs\u001b[38;5;241m.\u001b[39mreturn_type \u001b[38;5;129;01mis\u001b[39;00m Expectation:\n\u001b[1;32m    742\u001b[0m         \u001b[38;5;66;03m# Appends a result of shape (num_bins,) if bin_size is not None, else a scalar\u001b[39;00m\n\u001b[0;32m--> 743\u001b[0m         results\u001b[38;5;241m.\u001b[39mappend(\u001b[38;5;28;43mself\u001b[39;49m\u001b[38;5;241;43m.\u001b[39;49m\u001b[43mexpval\u001b[49m\u001b[43m(\u001b[49m\u001b[43mobs\u001b[49m\u001b[43m,\u001b[49m\u001b[43m \u001b[49m\u001b[43mshot_range\u001b[49m\u001b[38;5;241;43m=\u001b[39;49m\u001b[43mshot_range\u001b[49m\u001b[43m,\u001b[49m\u001b[43m \u001b[49m\u001b[43mbin_size\u001b[49m\u001b[38;5;241;43m=\u001b[39;49m\u001b[43mbin_size\u001b[49m\u001b[43m)\u001b[49m)\n\u001b[1;32m    745\u001b[0m     \u001b[38;5;28;01melif\u001b[39;00m obs\u001b[38;5;241m.\u001b[39mreturn_type \u001b[38;5;129;01mis\u001b[39;00m Variance:\n\u001b[1;32m    746\u001b[0m         \u001b[38;5;66;03m# Appends a result of shape (num_bins,) if bin_size is not None, else a scalar\u001b[39;00m\n\u001b[1;32m    747\u001b[0m         results\u001b[38;5;241m.\u001b[39mappend(\u001b[38;5;28mself\u001b[39m\u001b[38;5;241m.\u001b[39mvar(obs, shot_range\u001b[38;5;241m=\u001b[39mshot_range, bin_size\u001b[38;5;241m=\u001b[39mbin_size))\n",
      "File \u001b[0;32m/opt/conda/lib/python3.10/site-packages/pennylane_lightning_gpu/lightning_gpu.py:531\u001b[0m, in \u001b[0;36mLightningGPU.expval\u001b[0;34m(self, observable, shot_range, bin_size)\u001b[0m\n\u001b[1;32m    519\u001b[0m         \u001b[38;5;28;01mreturn\u001b[39;00m \u001b[38;5;28mself\u001b[39m\u001b[38;5;241m.\u001b[39m_gpu_state\u001b[38;5;241m.\u001b[39mExpectationValue(\n\u001b[1;32m    520\u001b[0m             device_wires, qml\u001b[38;5;241m.\u001b[39mmatrix(observable)\u001b[38;5;241m.\u001b[39mravel(order\u001b[38;5;241m=\u001b[39m\u001b[38;5;124m\"\u001b[39m\u001b[38;5;124mC\u001b[39m\u001b[38;5;124m\"\u001b[39m)\n\u001b[1;32m    521\u001b[0m         )\n\u001b[1;32m    523\u001b[0m par \u001b[38;5;241m=\u001b[39m (\n\u001b[1;32m    524\u001b[0m     observable\u001b[38;5;241m.\u001b[39mparameters\n\u001b[1;32m    525\u001b[0m     \u001b[38;5;28;01mif\u001b[39;00m (\n\u001b[0;32m   (...)\u001b[0m\n\u001b[1;32m    529\u001b[0m     \u001b[38;5;28;01melse\u001b[39;00m []\n\u001b[1;32m    530\u001b[0m )\n\u001b[0;32m--> 531\u001b[0m \u001b[38;5;28;01mreturn\u001b[39;00m \u001b[38;5;28;43mself\u001b[39;49m\u001b[38;5;241;43m.\u001b[39;49m\u001b[43m_gpu_state\u001b[49m\u001b[38;5;241;43m.\u001b[39;49m\u001b[43mExpectationValue\u001b[49m\u001b[43m(\u001b[49m\n\u001b[1;32m    532\u001b[0m \u001b[43m    \u001b[49m\u001b[43mobservable\u001b[49m\u001b[38;5;241;43m.\u001b[39;49m\u001b[43mname\u001b[49m\u001b[43m,\u001b[49m\n\u001b[1;32m    533\u001b[0m \u001b[43m    \u001b[49m\u001b[38;5;28;43mself\u001b[39;49m\u001b[38;5;241;43m.\u001b[39;49m\u001b[43mwires\u001b[49m\u001b[38;5;241;43m.\u001b[39;49m\u001b[43mindices\u001b[49m\u001b[43m(\u001b[49m\u001b[43mobservable\u001b[49m\u001b[38;5;241;43m.\u001b[39;49m\u001b[43mwires\u001b[49m\u001b[43m)\u001b[49m\u001b[43m,\u001b[49m\n\u001b[1;32m    534\u001b[0m \u001b[43m    \u001b[49m\u001b[43mpar\u001b[49m\u001b[43m,\u001b[49m\u001b[43m  \u001b[49m\u001b[38;5;66;43;03m# observables should not pass parameters, use matrix instead\u001b[39;49;00m\n\u001b[1;32m    535\u001b[0m \u001b[43m    \u001b[49m\u001b[43mqml\u001b[49m\u001b[38;5;241;43m.\u001b[39;49m\u001b[43mmatrix\u001b[49m\u001b[43m(\u001b[49m\u001b[43mobservable\u001b[49m\u001b[43m)\u001b[49m\u001b[38;5;241;43m.\u001b[39;49m\u001b[43mravel\u001b[49m\u001b[43m(\u001b[49m\u001b[43morder\u001b[49m\u001b[38;5;241;43m=\u001b[39;49m\u001b[38;5;124;43m\"\u001b[39;49m\u001b[38;5;124;43mC\u001b[39;49m\u001b[38;5;124;43m\"\u001b[39;49m\u001b[43m)\u001b[49m\u001b[43m,\u001b[49m\n\u001b[1;32m    536\u001b[0m \u001b[43m\u001b[49m\u001b[43m)\u001b[49m\n",
      "\u001b[0;31mKeyboardInterrupt\u001b[0m: "
     ]
    }
   ],
   "source": [
    "train(model_hybrid, train_sequences, test_sequences)"
   ]
  },
  {
   "cell_type": "code",
   "execution_count": 55,
   "id": "c48d7857-e528-47a7-9d82-5613b2aca49b",
   "metadata": {},
   "outputs": [
    {
     "ename": "NameError",
     "evalue": "name 'q_input_features' is not defined",
     "output_type": "error",
     "traceback": [
      "\u001b[0;31m---------------------------------------------------------------------------\u001b[0m",
      "\u001b[0;31mNameError\u001b[0m                                 Traceback (most recent call last)",
      "Cell \u001b[0;32mIn[55], line 1\u001b[0m\n\u001b[0;32m----> 1\u001b[0m \u001b[38;5;28mprint\u001b[39m(qml\u001b[38;5;241m.\u001b[39mdraw(quantum_net(\u001b[43mq_input_features\u001b[49m, q_weights_flat)))\n",
      "\u001b[0;31mNameError\u001b[0m: name 'q_input_features' is not defined"
     ]
    }
   ],
   "source": [
    "print(qml.draw(quantum_net(q_input_features, q_weights_flat)))"
   ]
  },
  {
   "cell_type": "code",
   "execution_count": null,
   "id": "9b750718-286f-46ca-9763-ede2edd27846",
   "metadata": {
    "tags": []
   },
   "outputs": [],
   "source": [
    "def test(input_model,test_x):\n",
    "    minibatch_size = 32\n",
    "    optimizer = torch.optim.Adam(input_model.parameters())\n",
    "    arr = np.array([])\n",
    "    input_model.eval()\n",
    "    test_acc = 0\n",
    "    \n",
    "    for i in range(test_x.shape[0] // minibatch_size):\n",
    "        batch_in = test_x[i * minibatch_size : (i + 1) * minibatch_size]\n",
    "        batch_in = batch_in.reshape((-1,) + test_x.shape[1:-2] + (784,))\n",
    "        batch_label = test_labels[i * minibatch_size : (i + 1) * minibatch_size]\n",
    "        output = input_model(torch.tensor(batch_in))\n",
    "#         print(\"Batch Label:\",batch_label)\n",
    "        arr=np.append(arr,torch.argmax(output, dim=1).numpy())\n",
    "        test_acc += torch.mean(\n",
    "            torch.eq(torch.argmax(output, dim=1), torch.tensor(batch_label)).float()\n",
    "        )\n",
    "    \n",
    "    test_acc /= i + 1\n",
    "    print(f\"Test accuracy:\", test_acc.numpy())\n",
    "    return test_acc.numpy()\n"
   ]
  },
  {
   "cell_type": "code",
   "execution_count": null,
   "id": "007cc9b0-538d-485a-be6c-2232cd787531",
   "metadata": {},
   "outputs": [],
   "source": [
    "test_Acc_snp=[]\n",
    "# test model with test dataset\n",
    "for i in range(1,10):\n",
    "    snp_noise_level=0.01*i\n",
    "\n",
    "    test_image=(np.load(f\"./saved_data_PneumoniaMNIST/snp_%.2f_42.npz\"%(snp_noise_level))['arr_0'])\n",
    "    test_X_snp=np.array([x[0] for x in test_image])\n",
    "    test_label=np.load(\"./saved_data_PneumoniaMNIST/test_labels.npz\")['arr_0']\n",
    "    test_acc=test(hybrid_model,test_X_snp)\n",
    "    test_Acc_snp.append(test_acc)"
   ]
  },
  {
   "cell_type": "code",
   "execution_count": null,
   "id": "2cbfeb30-2464-4ced-91d2-a5f7481374d1",
   "metadata": {},
   "outputs": [],
   "source": [
    "!pip freeze > requirements.txt"
   ]
  },
  {
   "cell_type": "code",
   "execution_count": null,
   "id": "229ab35e-5b1d-4723-a710-e1c08ead9e60",
   "metadata": {},
   "outputs": [],
   "source": []
  }
 ],
 "metadata": {
  "kernelspec": {
   "display_name": "Python 3 (ipykernel)",
   "language": "python",
   "name": "python3"
  },
  "language_info": {
   "codemirror_mode": {
    "name": "ipython",
    "version": 3
   },
   "file_extension": ".py",
   "mimetype": "text/x-python",
   "name": "python",
   "nbconvert_exporter": "python",
   "pygments_lexer": "ipython3",
   "version": "3.10.9"
  }
 },
 "nbformat": 4,
 "nbformat_minor": 5
}
